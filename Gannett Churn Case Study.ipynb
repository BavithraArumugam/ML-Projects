{
 "cells": [
  {
   "cell_type": "markdown",
   "metadata": {},
   "source": [
    "# Churn Prediction"
   ]
  },
  {
   "cell_type": "code",
   "execution_count": 1,
   "metadata": {},
   "outputs": [],
   "source": [
    "# Supress Warnings\n",
    "\n",
    "import warnings\n",
    "warnings.filterwarnings('ignore')"
   ]
  },
  {
   "cell_type": "code",
   "execution_count": 2,
   "metadata": {},
   "outputs": [],
   "source": [
    "import pandas as pd\n",
    "import numpy as np\n",
    "\n",
    "# Importing required packages for visualization\n",
    "from IPython.display import Image  \n",
    "import six\n",
    "import sys\n",
    "sys.modules['sklearn.externals.six'] = six\n",
    "from sklearn.externals.six import StringIO  \n",
    "from sklearn.tree import export_graphviz\n",
    "import pydotplus, graphviz\n",
    "import matplotlib.pyplot as plt\n",
    "%matplotlib inline\n",
    "import seaborn as sns\n",
    "\n",
    "from scipy import stats\n",
    "from scipy.stats import skew\n",
    "from sklearn import preprocessing\n",
    "from sklearn.decomposition import PCA\n",
    "from sklearn.decomposition import IncrementalPCA\n",
    "from sklearn.linear_model import LogisticRegression\n",
    "from sklearn.neighbors import KNeighborsClassifier\n",
    "from sklearn.ensemble import RandomForestClassifier\n",
    "from sklearn.ensemble import AdaBoostClassifier,GradientBoostingClassifier\n",
    "from sklearn.tree import DecisionTreeClassifier\n",
    "from sklearn.model_selection import train_test_split\n",
    "from sklearn.model_selection import StratifiedKFold, RandomizedSearchCV,GridSearchCV\n",
    "from sklearn.utils import resample\n",
    "from sklearn.preprocessing import MinMaxScaler, scale, PowerTransformer, StandardScaler\n",
    "from imblearn.over_sampling import SMOTE, ADASYN, RandomOverSampler\n",
    "\n",
    "from sklearn import metrics\n",
    "from sklearn.metrics import confusion_matrix, accuracy_score, recall_score, f1_score\n",
    "from sklearn.metrics import classification_report"
   ]
  },
  {
   "cell_type": "markdown",
   "metadata": {},
   "source": [
    "## Read and Inspect Data"
   ]
  },
  {
   "cell_type": "code",
   "execution_count": 3,
   "metadata": {},
   "outputs": [
    {
     "data": {
      "text/html": [
       "<div>\n",
       "<style scoped>\n",
       "    .dataframe tbody tr th:only-of-type {\n",
       "        vertical-align: middle;\n",
       "    }\n",
       "\n",
       "    .dataframe tbody tr th {\n",
       "        vertical-align: top;\n",
       "    }\n",
       "\n",
       "    .dataframe thead th {\n",
       "        text-align: right;\n",
       "    }\n",
       "</style>\n",
       "<table border=\"1\" class=\"dataframe\">\n",
       "  <thead>\n",
       "    <tr style=\"text-align: right;\">\n",
       "      <th></th>\n",
       "      <th>CPL_wrt_BC</th>\n",
       "      <th>client_state</th>\n",
       "      <th>duration</th>\n",
       "      <th>num_prods</th>\n",
       "      <th>calls</th>\n",
       "      <th>CPL_wrt_self</th>\n",
       "      <th>churn</th>\n",
       "      <th>avg_budget</th>\n",
       "      <th>BC</th>\n",
       "      <th>clicks</th>\n",
       "    </tr>\n",
       "  </thead>\n",
       "  <tbody>\n",
       "    <tr>\n",
       "      <th>0</th>\n",
       "      <td>0.000000</td>\n",
       "      <td>AZ</td>\n",
       "      <td>73</td>\n",
       "      <td>6</td>\n",
       "      <td>2</td>\n",
       "      <td>NaN</td>\n",
       "      <td>1</td>\n",
       "      <td>10082.152554</td>\n",
       "      <td>Beauty &amp; Personal Care</td>\n",
       "      <td>107</td>\n",
       "    </tr>\n",
       "    <tr>\n",
       "      <th>1</th>\n",
       "      <td>-0.623618</td>\n",
       "      <td>CA</td>\n",
       "      <td>1</td>\n",
       "      <td>1</td>\n",
       "      <td>3</td>\n",
       "      <td>0.000000</td>\n",
       "      <td>0</td>\n",
       "      <td>133.928571</td>\n",
       "      <td>Shopping, Collectibles &amp; Gifts (General)</td>\n",
       "      <td>79</td>\n",
       "    </tr>\n",
       "    <tr>\n",
       "      <th>2</th>\n",
       "      <td>0.007905</td>\n",
       "      <td>NY</td>\n",
       "      <td>102</td>\n",
       "      <td>2</td>\n",
       "      <td>8</td>\n",
       "      <td>-0.292008</td>\n",
       "      <td>0</td>\n",
       "      <td>3935.017462</td>\n",
       "      <td>Personal Services (Weddings, Cleaners, etc.)</td>\n",
       "      <td>90</td>\n",
       "    </tr>\n",
       "    <tr>\n",
       "      <th>3</th>\n",
       "      <td>-0.104900</td>\n",
       "      <td>MN</td>\n",
       "      <td>6</td>\n",
       "      <td>1</td>\n",
       "      <td>5</td>\n",
       "      <td>0.587206</td>\n",
       "      <td>0</td>\n",
       "      <td>461.538462</td>\n",
       "      <td>Travel</td>\n",
       "      <td>112</td>\n",
       "    </tr>\n",
       "    <tr>\n",
       "      <th>4</th>\n",
       "      <td>-0.013057</td>\n",
       "      <td>NJ</td>\n",
       "      <td>34</td>\n",
       "      <td>1</td>\n",
       "      <td>6</td>\n",
       "      <td>-0.955335</td>\n",
       "      <td>1</td>\n",
       "      <td>314.705882</td>\n",
       "      <td>Health &amp; Fitness</td>\n",
       "      <td>95</td>\n",
       "    </tr>\n",
       "  </tbody>\n",
       "</table>\n",
       "</div>"
      ],
      "text/plain": [
       "   CPL_wrt_BC client_state  duration  num_prods  calls  CPL_wrt_self  churn  \\\n",
       "0    0.000000           AZ        73          6      2           NaN      1   \n",
       "1   -0.623618           CA         1          1      3      0.000000      0   \n",
       "2    0.007905           NY       102          2      8     -0.292008      0   \n",
       "3   -0.104900           MN         6          1      5      0.587206      0   \n",
       "4   -0.013057           NJ        34          1      6     -0.955335      1   \n",
       "\n",
       "     avg_budget                                            BC  clicks  \n",
       "0  10082.152554                        Beauty & Personal Care     107  \n",
       "1    133.928571      Shopping, Collectibles & Gifts (General)      79  \n",
       "2   3935.017462  Personal Services (Weddings, Cleaners, etc.)      90  \n",
       "3    461.538462                                        Travel     112  \n",
       "4    314.705882                              Health & Fitness      95  "
      ]
     },
     "execution_count": 3,
     "metadata": {},
     "output_type": "execute_result"
    }
   ],
   "source": [
    "names = [\"CPL_wrt_BC\",\"client_state\",\"duration\",\"num_prods\", \"calls\",\"CPL_wrt_self\",\"churn\",\"avg_budget\",\"BC\",\"clicks\"]\n",
    "df = pd.read_csv(\"data.csv\", names = names)\n",
    "df.head()"
   ]
  },
  {
   "cell_type": "code",
   "execution_count": 4,
   "metadata": {},
   "outputs": [
    {
     "data": {
      "text/plain": [
       "(10000, 10)"
      ]
     },
     "execution_count": 4,
     "metadata": {},
     "output_type": "execute_result"
    }
   ],
   "source": [
    "df.shape"
   ]
  },
  {
   "cell_type": "code",
   "execution_count": 5,
   "metadata": {},
   "outputs": [
    {
     "name": "stdout",
     "output_type": "stream",
     "text": [
      "<class 'pandas.core.frame.DataFrame'>\n",
      "RangeIndex: 10000 entries, 0 to 9999\n",
      "Data columns (total 10 columns):\n",
      " #   Column        Non-Null Count  Dtype  \n",
      "---  ------        --------------  -----  \n",
      " 0   CPL_wrt_BC    10000 non-null  float64\n",
      " 1   client_state  10000 non-null  object \n",
      " 2   duration      10000 non-null  int64  \n",
      " 3   num_prods     10000 non-null  int64  \n",
      " 4   calls         10000 non-null  int64  \n",
      " 5   CPL_wrt_self  8908 non-null   float64\n",
      " 6   churn         10000 non-null  int64  \n",
      " 7   avg_budget    10000 non-null  float64\n",
      " 8   BC            10000 non-null  object \n",
      " 9   clicks        10000 non-null  int64  \n",
      "dtypes: float64(3), int64(5), object(2)\n",
      "memory usage: 781.4+ KB\n"
     ]
    }
   ],
   "source": [
    "df.info()"
   ]
  },
  {
   "cell_type": "code",
   "execution_count": 6,
   "metadata": {},
   "outputs": [
    {
     "data": {
      "text/html": [
       "<div>\n",
       "<style scoped>\n",
       "    .dataframe tbody tr th:only-of-type {\n",
       "        vertical-align: middle;\n",
       "    }\n",
       "\n",
       "    .dataframe tbody tr th {\n",
       "        vertical-align: top;\n",
       "    }\n",
       "\n",
       "    .dataframe thead th {\n",
       "        text-align: right;\n",
       "    }\n",
       "</style>\n",
       "<table border=\"1\" class=\"dataframe\">\n",
       "  <thead>\n",
       "    <tr style=\"text-align: right;\">\n",
       "      <th></th>\n",
       "      <th>CPL_wrt_BC</th>\n",
       "      <th>duration</th>\n",
       "      <th>num_prods</th>\n",
       "      <th>calls</th>\n",
       "      <th>CPL_wrt_self</th>\n",
       "      <th>churn</th>\n",
       "      <th>avg_budget</th>\n",
       "      <th>clicks</th>\n",
       "    </tr>\n",
       "  </thead>\n",
       "  <tbody>\n",
       "    <tr>\n",
       "      <th>count</th>\n",
       "      <td>10000.000000</td>\n",
       "      <td>10000.000000</td>\n",
       "      <td>10000.000000</td>\n",
       "      <td>10000.000000</td>\n",
       "      <td>8908.000000</td>\n",
       "      <td>10000.00000</td>\n",
       "      <td>10000.000000</td>\n",
       "      <td>10000.000000</td>\n",
       "    </tr>\n",
       "    <tr>\n",
       "      <th>mean</th>\n",
       "      <td>-0.068958</td>\n",
       "      <td>27.669200</td>\n",
       "      <td>1.327200</td>\n",
       "      <td>4.526100</td>\n",
       "      <td>0.602664</td>\n",
       "      <td>0.20000</td>\n",
       "      <td>1512.601132</td>\n",
       "      <td>99.214900</td>\n",
       "    </tr>\n",
       "    <tr>\n",
       "      <th>std</th>\n",
       "      <td>0.491693</td>\n",
       "      <td>25.500847</td>\n",
       "      <td>0.816582</td>\n",
       "      <td>2.859185</td>\n",
       "      <td>11.135854</td>\n",
       "      <td>0.40002</td>\n",
       "      <td>3473.160720</td>\n",
       "      <td>31.701757</td>\n",
       "    </tr>\n",
       "    <tr>\n",
       "      <th>min</th>\n",
       "      <td>-0.994590</td>\n",
       "      <td>1.000000</td>\n",
       "      <td>0.000000</td>\n",
       "      <td>0.000000</td>\n",
       "      <td>-1.000000</td>\n",
       "      <td>0.00000</td>\n",
       "      <td>9.090909</td>\n",
       "      <td>13.000000</td>\n",
       "    </tr>\n",
       "    <tr>\n",
       "      <th>25%</th>\n",
       "      <td>-0.103273</td>\n",
       "      <td>6.000000</td>\n",
       "      <td>1.000000</td>\n",
       "      <td>2.000000</td>\n",
       "      <td>-0.255226</td>\n",
       "      <td>0.00000</td>\n",
       "      <td>476.056955</td>\n",
       "      <td>76.000000</td>\n",
       "    </tr>\n",
       "    <tr>\n",
       "      <th>50%</th>\n",
       "      <td>-0.088810</td>\n",
       "      <td>19.000000</td>\n",
       "      <td>1.000000</td>\n",
       "      <td>5.000000</td>\n",
       "      <td>0.000000</td>\n",
       "      <td>0.00000</td>\n",
       "      <td>907.839383</td>\n",
       "      <td>96.000000</td>\n",
       "    </tr>\n",
       "    <tr>\n",
       "      <th>75%</th>\n",
       "      <td>-0.048530</td>\n",
       "      <td>42.000000</td>\n",
       "      <td>1.000000</td>\n",
       "      <td>7.000000</td>\n",
       "      <td>0.311280</td>\n",
       "      <td>0.00000</td>\n",
       "      <td>1666.499256</td>\n",
       "      <td>119.000000</td>\n",
       "    </tr>\n",
       "    <tr>\n",
       "      <th>max</th>\n",
       "      <td>19.088412</td>\n",
       "      <td>118.000000</td>\n",
       "      <td>11.000000</td>\n",
       "      <td>9.000000</td>\n",
       "      <td>841.288094</td>\n",
       "      <td>1.00000</td>\n",
       "      <td>148555.594376</td>\n",
       "      <td>253.000000</td>\n",
       "    </tr>\n",
       "  </tbody>\n",
       "</table>\n",
       "</div>"
      ],
      "text/plain": [
       "         CPL_wrt_BC      duration     num_prods         calls  CPL_wrt_self  \\\n",
       "count  10000.000000  10000.000000  10000.000000  10000.000000   8908.000000   \n",
       "mean      -0.068958     27.669200      1.327200      4.526100      0.602664   \n",
       "std        0.491693     25.500847      0.816582      2.859185     11.135854   \n",
       "min       -0.994590      1.000000      0.000000      0.000000     -1.000000   \n",
       "25%       -0.103273      6.000000      1.000000      2.000000     -0.255226   \n",
       "50%       -0.088810     19.000000      1.000000      5.000000      0.000000   \n",
       "75%       -0.048530     42.000000      1.000000      7.000000      0.311280   \n",
       "max       19.088412    118.000000     11.000000      9.000000    841.288094   \n",
       "\n",
       "             churn     avg_budget        clicks  \n",
       "count  10000.00000   10000.000000  10000.000000  \n",
       "mean       0.20000    1512.601132     99.214900  \n",
       "std        0.40002    3473.160720     31.701757  \n",
       "min        0.00000       9.090909     13.000000  \n",
       "25%        0.00000     476.056955     76.000000  \n",
       "50%        0.00000     907.839383     96.000000  \n",
       "75%        0.00000    1666.499256    119.000000  \n",
       "max        1.00000  148555.594376    253.000000  "
      ]
     },
     "execution_count": 6,
     "metadata": {},
     "output_type": "execute_result"
    }
   ],
   "source": [
    "df.describe()"
   ]
  },
  {
   "cell_type": "code",
   "execution_count": 7,
   "metadata": {},
   "outputs": [
    {
     "data": {
      "text/plain": [
       "CPL_wrt_BC         0\n",
       "client_state       0\n",
       "duration           0\n",
       "num_prods          0\n",
       "calls              0\n",
       "CPL_wrt_self    1092\n",
       "churn              0\n",
       "avg_budget         0\n",
       "BC                 0\n",
       "clicks             0\n",
       "dtype: int64"
      ]
     },
     "execution_count": 7,
     "metadata": {},
     "output_type": "execute_result"
    }
   ],
   "source": [
    "df.isnull().sum()"
   ]
  },
  {
   "cell_type": "markdown",
   "metadata": {},
   "source": [
    "## Exploratory Data Analysis"
   ]
  },
  {
   "cell_type": "markdown",
   "metadata": {},
   "source": [
    "### Univariate Analysis"
   ]
  },
  {
   "cell_type": "code",
   "execution_count": 8,
   "metadata": {},
   "outputs": [
    {
     "data": {
      "image/png": "[encoded data removed]",
      "text/plain": [
       "<Figure size 432x288 with 1 Axes>"
      ]
     },
     "metadata": {
      "needs_background": "light"
     },
     "output_type": "display_data"
    }
   ],
   "source": [
    "# to check class imbalance\n",
    "df.churn.value_counts(normalize=True).plot.bar()\n",
    "plt.show()"
   ]
  },
  {
   "cell_type": "markdown",
   "metadata": {},
   "source": [
    "Nearly 92% of the customers are non-churners. We need to handle this class imbalance before building models"
   ]
  },
  {
   "cell_type": "code",
   "execution_count": 9,
   "metadata": {},
   "outputs": [
    {
     "data": {
      "text/plain": [
       "31"
      ]
     },
     "execution_count": 9,
     "metadata": {},
     "output_type": "execute_result"
    }
   ],
   "source": [
    "df['BC'].nunique()"
   ]
  },
  {
   "cell_type": "code",
   "execution_count": 10,
   "metadata": {},
   "outputs": [
    {
     "data": {
      "text/plain": [
       "Government & Politics                              3\n",
       "Business Opportunities                             5\n",
       "Religion & Spirituality                            9\n",
       "Community, Garage Sales & Organizations           11\n",
       "Farming & Agriculture                             18\n",
       "Career & Employment                               20\n",
       "Toys & Hobbies                                    27\n",
       "Electronics & Photo                               34\n",
       "Computers, Telephony & Internet                   35\n",
       "Arts & Entertainment                              82\n",
       "Finance & Insurance                               84\n",
       "Apparel / Fashion & Jewelry                       88\n",
       "Restaurants & Food                               115\n",
       "Beauty & Personal Care                           196\n",
       "Dentists & Dental Services                       218\n",
       "Animals & Pets                                   221\n",
       "Sports & Recreation                              259\n",
       "Real Estate                                      280\n",
       "Furniture                                        281\n",
       "Industrial & Commercial                          286\n",
       "Business Services                                389\n",
       "Attorneys & Legal Services                       415\n",
       "Education & Instruction                          447\n",
       "Personal Services (Weddings, Cleaners, etc.)     475\n",
       "Health & Fitness                                 499\n",
       "Physicians & Surgeons                            505\n",
       "Travel                                           512\n",
       "Automotive -- For Sale                           516\n",
       "Automotive -- Repair, Service & Parts            624\n",
       "Shopping, Collectibles & Gifts (General)         736\n",
       "Home & Home Improvement                         2610\n",
       "Name: BC, dtype: int64"
      ]
     },
     "execution_count": 10,
     "metadata": {},
     "output_type": "execute_result"
    }
   ],
   "source": [
    "#Analysing distribution of clients in BC\n",
    "df['BC'].value_counts(ascending=True)"
   ]
  },
  {
   "cell_type": "code",
   "execution_count": 11,
   "metadata": {},
   "outputs": [
    {
     "data": {
      "text/plain": [
       "51"
      ]
     },
     "execution_count": 11,
     "metadata": {},
     "output_type": "execute_result"
    }
   ],
   "source": [
    "df['client_state'].nunique()"
   ]
  },
  {
   "cell_type": "code",
   "execution_count": 12,
   "metadata": {},
   "outputs": [
    {
     "data": {
      "text/plain": [
       "WY       1\n",
       "WV       3\n",
       "ND       6\n",
       "VT       8\n",
       "AK      10\n",
       "MT      10\n",
       "NM      10\n",
       "SD      15\n",
       "HI      18\n",
       "AR      18\n",
       "ID      23\n",
       "DE      27\n",
       "NE      29\n",
       "KY      34\n",
       "OK      36\n",
       "MS      38\n",
       "IA      40\n",
       "RI      41\n",
       "DC      42\n",
       "AL      47\n",
       "KS      51\n",
       "UT      52\n",
       "NH      53\n",
       "CT      54\n",
       "ME      54\n",
       "SC      63\n",
       "NV      66\n",
       "LA      84\n",
       "WI      90\n",
       "TN      96\n",
       "MI     110\n",
       "IN     128\n",
       "MN     137\n",
       "OR     144\n",
       "NC     183\n",
       "MO     185\n",
       "AZ     278\n",
       "CO     278\n",
       "OH     288\n",
       "MA     299\n",
       "VA     314\n",
       "WA     315\n",
       "NJ     343\n",
       "GA     345\n",
       "MD     380\n",
       "IL     546\n",
       "PA     564\n",
       "NY     658\n",
       "FL     746\n",
       "TX     895\n",
       "CA    1745\n",
       "Name: client_state, dtype: int64"
      ]
     },
     "execution_count": 12,
     "metadata": {},
     "output_type": "execute_result"
    }
   ],
   "source": [
    "#Analysing distribution of clients in states\n",
    "df['client_state'].value_counts(ascending=True)"
   ]
  },
  {
   "cell_type": "markdown",
   "metadata": {},
   "source": [
    "### Bivariate Analysis"
   ]
  },
  {
   "cell_type": "code",
   "execution_count": 13,
   "metadata": {},
   "outputs": [],
   "source": [
    "df_BC = df.groupby('BC')['churn'].value_counts(normalize=True)\n",
    "df_BC = df_BC.mul(100).rename('Percent').reset_index()"
   ]
  },
  {
   "cell_type": "code",
   "execution_count": 14,
   "metadata": {},
   "outputs": [
    {
     "data": {
      "text/plain": [
       "(10.0, 100.0)"
      ]
     },
     "execution_count": 14,
     "metadata": {},
     "output_type": "execute_result"
    },
    {
     "data": {
      "image/png": "[encoded data removed]",
      "text/plain": [
       "<Figure size 5004.38x595.44 with 1 Axes>"
      ]
     },
     "metadata": {
      "needs_background": "light"
     },
     "output_type": "display_data"
    }
   ],
   "source": [
    "g = sns.catplot(x='BC', y='Percent', hue='churn', kind='bar', data=df_BC,height=8.27, aspect =100/12)\n",
    "g.ax.set_ylim(10,100)"
   ]
  },
  {
   "cell_type": "code",
   "execution_count": 15,
   "metadata": {},
   "outputs": [],
   "source": [
    "df_client_state = df.groupby('client_state')['churn'].value_counts(normalize=True)\n",
    "df_client_state = df_client_state.mul(100).rename('Percent').reset_index()"
   ]
  },
  {
   "cell_type": "code",
   "execution_count": 16,
   "metadata": {},
   "outputs": [
    {
     "data": {
      "text/plain": [
       "(10.0, 100.0)"
      ]
     },
     "execution_count": 16,
     "metadata": {},
     "output_type": "execute_result"
    },
    {
     "data": {
      "image/png": "[encoded data removed]",
      "text/plain": [
       "<Figure size 5004.38x595.44 with 1 Axes>"
      ]
     },
     "metadata": {
      "needs_background": "light"
     },
     "output_type": "display_data"
    }
   ],
   "source": [
    "g = sns.catplot(x='client_state', y='Percent', hue='churn', kind='bar', data=df_client_state,height=8.27, aspect =100/12)\n",
    "g.ax.set_ylim(10,100)"
   ]
  },
  {
   "cell_type": "code",
   "execution_count": 17,
   "metadata": {},
   "outputs": [],
   "source": [
    "df_duration = df.groupby('duration')['churn'].value_counts(normalize=True)\n",
    "df_duration = df_duration.mul(100).rename('Percent').reset_index()"
   ]
  },
  {
   "cell_type": "code",
   "execution_count": 18,
   "metadata": {},
   "outputs": [
    {
     "data": {
      "text/plain": [
       "(10.0, 100.0)"
      ]
     },
     "execution_count": 18,
     "metadata": {},
     "output_type": "execute_result"
    },
    {
     "data": {
      "image/png": "[encoded data removed]",
      "text/plain": [
       "<Figure size 5004.38x595.44 with 1 Axes>"
      ]
     },
     "metadata": {
      "needs_background": "light"
     },
     "output_type": "display_data"
    }
   ],
   "source": [
    "g = sns.catplot(x='duration', y='Percent', hue='churn', kind='bar', data=df_duration,height=8.27, aspect =100/12)\n",
    "g.ax.set_ylim(10,100)"
   ]
  },
  {
   "cell_type": "code",
   "execution_count": 19,
   "metadata": {},
   "outputs": [
    {
     "data": {
      "text/plain": [
       "<matplotlib.axes._subplots.AxesSubplot at 0x7ff6603b7310>"
      ]
     },
     "execution_count": 19,
     "metadata": {},
     "output_type": "execute_result"
    },
    {
     "data": {
      "image/png": "[encoded data removed]",
      "text/plain": [
       "<Figure size 432x288 with 1 Axes>"
      ]
     },
     "metadata": {
      "needs_background": "light"
     },
     "output_type": "display_data"
    }
   ],
   "source": [
    "# Create a bar plot to observe the distribution of classes with time\n",
    "sns.barplot(x = 'churn', y = 'duration', data = df)"
   ]
  },
  {
   "cell_type": "markdown",
   "metadata": {},
   "source": [
    "<b>We can see long term customers are more likely to churn<b>"
   ]
  },
  {
   "cell_type": "code",
   "execution_count": 20,
   "metadata": {},
   "outputs": [
    {
     "data": {
      "text/plain": [
       "<matplotlib.axes._subplots.AxesSubplot at 0x7ff6806530d0>"
      ]
     },
     "execution_count": 20,
     "metadata": {},
     "output_type": "execute_result"
    },
    {
     "data": {
      "image/png": "[encoded data removed]",
      "text/plain": [
       "<Figure size 432x288 with 1 Axes>"
      ]
     },
     "metadata": {
      "needs_background": "light"
     },
     "output_type": "display_data"
    }
   ],
   "source": [
    "# Create a bar plot to observe the distribution of classes with avg_budget\n",
    "sns.barplot(x = 'churn', y = 'avg_budget', data = df)"
   ]
  },
  {
   "cell_type": "markdown",
   "metadata": {},
   "source": [
    "<b>We can see low value customers are likely to churn than high value customers"
   ]
  },
  {
   "cell_type": "code",
   "execution_count": 21,
   "metadata": {},
   "outputs": [
    {
     "data": {
      "image/png": "[encoded data removed]",
      "text/plain": [
       "<Figure size 720x432 with 1 Axes>"
      ]
     },
     "metadata": {
      "needs_background": "light"
     },
     "output_type": "display_data"
    }
   ],
   "source": [
    "plt.figure(figsize=(10,6))\n",
    "sns.scatterplot(x='duration', \n",
    "                y='avg_budget',\n",
    "                size='churn',            \n",
    "                data=df)\n",
    "# Put the legend out of the figure\n",
    "plt.legend(bbox_to_anchor=(1.01, 1),borderaxespad=0)\n",
    "# Put the legend out of the figure\n",
    "#plt.legend(bbox_to_anchor=(1.01, 0.54),  borderaxespad=0.)\n",
    "plt.xlabel(\"Duration\")\n",
    "plt.ylabel(\"Avg_budget\")\n",
    "plt.tight_layout()\n"
   ]
  },
  {
   "cell_type": "code",
   "execution_count": 22,
   "metadata": {},
   "outputs": [
    {
     "data": {
      "text/plain": [
       "<matplotlib.axes._subplots.AxesSubplot at 0x7ff6603f0fd0>"
      ]
     },
     "execution_count": 22,
     "metadata": {},
     "output_type": "execute_result"
    },
    {
     "data": {
      "image/png": "[encoded data removed]",
      "text/plain": [
       "<Figure size 432x288 with 1 Axes>"
      ]
     },
     "metadata": {
      "needs_background": "light"
     },
     "output_type": "display_data"
    }
   ],
   "source": [
    "# Create a bar plot to observe the distribution of classes with CPL_wrt_BC\n",
    "sns.barplot(x = 'churn', y = 'CPL_wrt_BC', data = df)"
   ]
  },
  {
   "cell_type": "markdown",
   "metadata": {},
   "source": [
    "<b>We can see customers with high CPL_wrt_BC are more likely to retain<b>"
   ]
  },
  {
   "cell_type": "code",
   "execution_count": 23,
   "metadata": {},
   "outputs": [],
   "source": [
    "df_num_prods = df.groupby('num_prods')['churn'].value_counts(normalize=True)\n",
    "df_num_prods = df_num_prods.mul(100).rename('Percent').reset_index()"
   ]
  },
  {
   "cell_type": "code",
   "execution_count": 24,
   "metadata": {},
   "outputs": [
    {
     "data": {
      "text/plain": [
       "(10.0, 100.0)"
      ]
     },
     "execution_count": 24,
     "metadata": {},
     "output_type": "execute_result"
    },
    {
     "data": {
      "image/png": "[encoded data removed]",
      "text/plain": [
       "<Figure size 5004.38x595.44 with 1 Axes>"
      ]
     },
     "metadata": {
      "needs_background": "light"
     },
     "output_type": "display_data"
    }
   ],
   "source": [
    "g = sns.catplot(x='num_prods', y='Percent', hue='churn', kind='bar', data=df_num_prods,height=8.27, aspect =100/12)\n",
    "g.ax.set_ylim(10,100)"
   ]
  },
  {
   "cell_type": "markdown",
   "metadata": {},
   "source": [
    "<b>We can see customers are more likely to retain as the number of products increases<b>"
   ]
  },
  {
   "cell_type": "code",
   "execution_count": 25,
   "metadata": {},
   "outputs": [
    {
     "data": {
      "text/plain": [
       "<matplotlib.axes._subplots.AxesSubplot at 0x7ff680653e80>"
      ]
     },
     "execution_count": 25,
     "metadata": {},
     "output_type": "execute_result"
    },
    {
     "data": {
      "image/png": "[encoded data removed]",
      "text/plain": [
       "<Figure size 432x288 with 1 Axes>"
      ]
     },
     "metadata": {
      "needs_background": "light"
     },
     "output_type": "display_data"
    }
   ],
   "source": [
    "# Create a bar plot to observe the distribution of classes with calls\n",
    "sns.barplot(x = 'churn', y = 'calls', data = df)"
   ]
  },
  {
   "cell_type": "markdown",
   "metadata": {},
   "source": [
    "<b>Calls does not explain anything on churn rate<b>"
   ]
  },
  {
   "cell_type": "code",
   "execution_count": 26,
   "metadata": {},
   "outputs": [
    {
     "data": {
      "text/plain": [
       "<matplotlib.axes._subplots.AxesSubplot at 0x7ff68057b430>"
      ]
     },
     "execution_count": 26,
     "metadata": {},
     "output_type": "execute_result"
    },
    {
     "data": {
      "image/png": "[encoded data removed]",
      "text/plain": [
       "<Figure size 432x288 with 1 Axes>"
      ]
     },
     "metadata": {
      "needs_background": "light"
     },
     "output_type": "display_data"
    }
   ],
   "source": [
    "# Create a bar plot to observe the distribution of classes with clicks\n",
    "sns.barplot(x = 'churn', y = 'clicks', data = df)"
   ]
  },
  {
   "cell_type": "markdown",
   "metadata": {},
   "source": [
    "<b>Clicks does not explain anything on churn rate<b>"
   ]
  },
  {
   "cell_type": "markdown",
   "metadata": {},
   "source": [
    "## Data Cleaning"
   ]
  },
  {
   "cell_type": "markdown",
   "metadata": {},
   "source": [
    "### Removing NaN"
   ]
  },
  {
   "cell_type": "code",
   "execution_count": 27,
   "metadata": {},
   "outputs": [],
   "source": [
    "# Replace null with 0(because CPL_wrt_self is independent of other rows)\n",
    "df['CPL_wrt_self'] = df['CPL_wrt_self'].fillna(0)"
   ]
  },
  {
   "cell_type": "markdown",
   "metadata": {},
   "source": [
    "### Encoding Categorical Variables"
   ]
  },
  {
   "cell_type": "code",
   "execution_count": 28,
   "metadata": {},
   "outputs": [],
   "source": [
    "# Target Encoding to deal with high cardinality categorical features \n",
    "# without exploding dimensionality.\n",
    "def target_encoder(df, column, target, index=None):\n",
    "    index = df.index if index is None else index # Encode the entire input df if no specific indices is supplied\n",
    "    encoded_column = df[column].map(df.iloc[index].groupby(column)[target].mean())\n",
    "    return encoded_column"
   ]
  },
  {
   "cell_type": "code",
   "execution_count": 29,
   "metadata": {},
   "outputs": [],
   "source": [
    "df['BC'] = target_encoder(df, column='BC', target='churn')"
   ]
  },
  {
   "cell_type": "code",
   "execution_count": 30,
   "metadata": {},
   "outputs": [],
   "source": [
    "df['client_state'] = target_encoder(df, column='client_state', target='churn')"
   ]
  },
  {
   "cell_type": "markdown",
   "metadata": {},
   "source": [
    "### Normalization"
   ]
  },
  {
   "cell_type": "code",
   "execution_count": 31,
   "metadata": {},
   "outputs": [
    {
     "data": {
      "image/png": "[encoded data removed]",
      "text/plain": [
       "<Figure size 1296x1008 with 6 Axes>"
      ]
     },
     "metadata": {
      "needs_background": "light"
     },
     "output_type": "display_data"
    }
   ],
   "source": [
    "# plot the histogram of a variable from the dataset to see the skewness\n",
    "plt.figure(figsize=(18,14))\n",
    "cols = [ 'clicks', 'calls',  'avg_budget', 'duration', 'CPL_wrt_BC', 'CPL_wrt_self']\n",
    "for i in enumerate(cols): \n",
    "    ax = plt.subplot(4, 4, i[0]+1)\n",
    "    sns.distplot(df[i[1]], kde=False)"
   ]
  },
  {
   "cell_type": "code",
   "execution_count": 32,
   "metadata": {},
   "outputs": [],
   "source": [
    "#Box - Cox transform duration\n",
    "duration_box_cox = stats.boxcox(df['duration'])[0]\n",
    "pd.Series(duration_box_cox).skew()\n",
    "df.insert(0,'Duration', duration_box_cox)\n",
    "df.drop('duration', axis=1, inplace=True)"
   ]
  },
  {
   "cell_type": "code",
   "execution_count": 33,
   "metadata": {},
   "outputs": [],
   "source": [
    "#Box - Cox transform avg_budget\n",
    "budget_box_cox = stats.boxcox(df['avg_budget'])[0]\n",
    "pd.Series(budget_box_cox).skew()\n",
    "df.insert(0,'Avg_budget', budget_box_cox)\n",
    "df.drop('avg_budget', axis=1, inplace=True)"
   ]
  },
  {
   "cell_type": "markdown",
   "metadata": {},
   "source": [
    "### Identify and Remove columns with no variance"
   ]
  },
  {
   "cell_type": "code",
   "execution_count": 34,
   "metadata": {},
   "outputs": [
    {
     "data": {
      "text/plain": [
       "[]"
      ]
     },
     "execution_count": 34,
     "metadata": {},
     "output_type": "execute_result"
    }
   ],
   "source": [
    "#Identify columns with no variance\n",
    "no_var_col=[]\n",
    "for each in df.columns:\n",
    "    if df[each].nunique() == 1:\n",
    "        no_var_col.append(each)\n",
    "no_var_col"
   ]
  },
  {
   "cell_type": "markdown",
   "metadata": {},
   "source": [
    "### Correlation Matrix and Heatmap"
   ]
  },
  {
   "cell_type": "code",
   "execution_count": 35,
   "metadata": {},
   "outputs": [],
   "source": [
    "corr_df = pd.DataFrame(df.drop('churn', axis=1).corr().unstack().sort_values().drop_duplicates(), columns=['corr_score'])"
   ]
  },
  {
   "cell_type": "code",
   "execution_count": 36,
   "metadata": {},
   "outputs": [],
   "source": [
    "#correlation Matrix\n",
    "cor= df.drop(['churn'], axis=1).corr()"
   ]
  },
  {
   "cell_type": "code",
   "execution_count": 37,
   "metadata": {},
   "outputs": [
    {
     "data": {
      "image/png": "[encoded data removed]",
      "text/plain": [
       "<Figure size 1728x1728 with 2 Axes>"
      ]
     },
     "metadata": {
      "needs_background": "light"
     },
     "output_type": "display_data"
    }
   ],
   "source": [
    "# plotting correlations on a heatmap\n",
    "\n",
    "# figure size\n",
    "plt.figure(figsize=(24,24))\n",
    "\n",
    "# heatmap\n",
    "sns.heatmap(cor, cmap=\"YlGnBu\",)\n",
    "plt.show()"
   ]
  },
  {
   "cell_type": "markdown",
   "metadata": {},
   "source": [
    "<b>No highly correlated columns in the heat map"
   ]
  },
  {
   "cell_type": "markdown",
   "metadata": {},
   "source": [
    "### Checking Outliers"
   ]
  },
  {
   "cell_type": "code",
   "execution_count": 38,
   "metadata": {},
   "outputs": [
    {
     "data": {
      "text/html": [
       "<div>\n",
       "<style scoped>\n",
       "    .dataframe tbody tr th:only-of-type {\n",
       "        vertical-align: middle;\n",
       "    }\n",
       "\n",
       "    .dataframe tbody tr th {\n",
       "        vertical-align: top;\n",
       "    }\n",
       "\n",
       "    .dataframe thead th {\n",
       "        text-align: right;\n",
       "    }\n",
       "</style>\n",
       "<table border=\"1\" class=\"dataframe\">\n",
       "  <thead>\n",
       "    <tr style=\"text-align: right;\">\n",
       "      <th></th>\n",
       "      <th>Avg_budget</th>\n",
       "      <th>Duration</th>\n",
       "      <th>CPL_wrt_BC</th>\n",
       "      <th>client_state</th>\n",
       "      <th>num_prods</th>\n",
       "      <th>calls</th>\n",
       "      <th>CPL_wrt_self</th>\n",
       "      <th>BC</th>\n",
       "      <th>clicks</th>\n",
       "    </tr>\n",
       "  </thead>\n",
       "  <tbody>\n",
       "    <tr>\n",
       "      <th>count</th>\n",
       "      <td>10000.000000</td>\n",
       "      <td>10000.000000</td>\n",
       "      <td>10000.000000</td>\n",
       "      <td>10000.000000</td>\n",
       "      <td>10000.000000</td>\n",
       "      <td>10000.000000</td>\n",
       "      <td>10000.000000</td>\n",
       "      <td>10000.000000</td>\n",
       "      <td>10000.000000</td>\n",
       "    </tr>\n",
       "    <tr>\n",
       "      <th>mean</th>\n",
       "      <td>7.809877</td>\n",
       "      <td>4.502705</td>\n",
       "      <td>-0.068958</td>\n",
       "      <td>0.200000</td>\n",
       "      <td>1.327200</td>\n",
       "      <td>4.526100</td>\n",
       "      <td>0.536853</td>\n",
       "      <td>0.200000</td>\n",
       "      <td>99.214900</td>\n",
       "    </tr>\n",
       "    <tr>\n",
       "      <th>std</th>\n",
       "      <td>1.363912</td>\n",
       "      <td>2.511238</td>\n",
       "      <td>0.491693</td>\n",
       "      <td>0.035589</td>\n",
       "      <td>0.816582</td>\n",
       "      <td>2.859185</td>\n",
       "      <td>10.511881</td>\n",
       "      <td>0.046374</td>\n",
       "      <td>31.701757</td>\n",
       "    </tr>\n",
       "    <tr>\n",
       "      <th>min</th>\n",
       "      <td>2.309411</td>\n",
       "      <td>0.000000</td>\n",
       "      <td>-0.994590</td>\n",
       "      <td>0.100000</td>\n",
       "      <td>0.000000</td>\n",
       "      <td>0.000000</td>\n",
       "      <td>-1.000000</td>\n",
       "      <td>0.055556</td>\n",
       "      <td>13.000000</td>\n",
       "    </tr>\n",
       "    <tr>\n",
       "      <th>25%</th>\n",
       "      <td>7.007687</td>\n",
       "      <td>2.309299</td>\n",
       "      <td>-0.103273</td>\n",
       "      <td>0.186592</td>\n",
       "      <td>1.000000</td>\n",
       "      <td>2.000000</td>\n",
       "      <td>-0.215060</td>\n",
       "      <td>0.174679</td>\n",
       "      <td>76.000000</td>\n",
       "    </tr>\n",
       "    <tr>\n",
       "      <th>50%</th>\n",
       "      <td>7.848237</td>\n",
       "      <td>4.514403</td>\n",
       "      <td>-0.088810</td>\n",
       "      <td>0.193123</td>\n",
       "      <td>1.000000</td>\n",
       "      <td>5.000000</td>\n",
       "      <td>0.000000</td>\n",
       "      <td>0.201149</td>\n",
       "      <td>96.000000</td>\n",
       "    </tr>\n",
       "    <tr>\n",
       "      <th>75%</th>\n",
       "      <td>8.659568</td>\n",
       "      <td>6.487732</td>\n",
       "      <td>-0.048530</td>\n",
       "      <td>0.213115</td>\n",
       "      <td>1.000000</td>\n",
       "      <td>7.000000</td>\n",
       "      <td>0.245392</td>\n",
       "      <td>0.221477</td>\n",
       "      <td>119.000000</td>\n",
       "    </tr>\n",
       "    <tr>\n",
       "      <th>90%</th>\n",
       "      <td>9.463860</td>\n",
       "      <td>7.818048</td>\n",
       "      <td>0.000664</td>\n",
       "      <td>0.237265</td>\n",
       "      <td>2.000000</td>\n",
       "      <td>9.000000</td>\n",
       "      <td>0.847317</td>\n",
       "      <td>0.251928</td>\n",
       "      <td>142.000000</td>\n",
       "    </tr>\n",
       "    <tr>\n",
       "      <th>95%</th>\n",
       "      <td>9.977826</td>\n",
       "      <td>8.517495</td>\n",
       "      <td>0.101739</td>\n",
       "      <td>0.243478</td>\n",
       "      <td>3.000000</td>\n",
       "      <td>9.000000</td>\n",
       "      <td>1.594276</td>\n",
       "      <td>0.277132</td>\n",
       "      <td>157.000000</td>\n",
       "    </tr>\n",
       "    <tr>\n",
       "      <th>99%</th>\n",
       "      <td>11.185288</td>\n",
       "      <td>9.263699</td>\n",
       "      <td>0.808168</td>\n",
       "      <td>0.333333</td>\n",
       "      <td>5.000000</td>\n",
       "      <td>9.000000</td>\n",
       "      <td>7.185472</td>\n",
       "      <td>0.317073</td>\n",
       "      <td>188.000000</td>\n",
       "    </tr>\n",
       "    <tr>\n",
       "      <th>max</th>\n",
       "      <td>15.321615</td>\n",
       "      <td>9.787141</td>\n",
       "      <td>19.088412</td>\n",
       "      <td>1.000000</td>\n",
       "      <td>11.000000</td>\n",
       "      <td>9.000000</td>\n",
       "      <td>841.288094</td>\n",
       "      <td>0.600000</td>\n",
       "      <td>253.000000</td>\n",
       "    </tr>\n",
       "  </tbody>\n",
       "</table>\n",
       "</div>"
      ],
      "text/plain": [
       "         Avg_budget      Duration    CPL_wrt_BC  client_state     num_prods  \\\n",
       "count  10000.000000  10000.000000  10000.000000  10000.000000  10000.000000   \n",
       "mean       7.809877      4.502705     -0.068958      0.200000      1.327200   \n",
       "std        1.363912      2.511238      0.491693      0.035589      0.816582   \n",
       "min        2.309411      0.000000     -0.994590      0.100000      0.000000   \n",
       "25%        7.007687      2.309299     -0.103273      0.186592      1.000000   \n",
       "50%        7.848237      4.514403     -0.088810      0.193123      1.000000   \n",
       "75%        8.659568      6.487732     -0.048530      0.213115      1.000000   \n",
       "90%        9.463860      7.818048      0.000664      0.237265      2.000000   \n",
       "95%        9.977826      8.517495      0.101739      0.243478      3.000000   \n",
       "99%       11.185288      9.263699      0.808168      0.333333      5.000000   \n",
       "max       15.321615      9.787141     19.088412      1.000000     11.000000   \n",
       "\n",
       "              calls  CPL_wrt_self            BC        clicks  \n",
       "count  10000.000000  10000.000000  10000.000000  10000.000000  \n",
       "mean       4.526100      0.536853      0.200000     99.214900  \n",
       "std        2.859185     10.511881      0.046374     31.701757  \n",
       "min        0.000000     -1.000000      0.055556     13.000000  \n",
       "25%        2.000000     -0.215060      0.174679     76.000000  \n",
       "50%        5.000000      0.000000      0.201149     96.000000  \n",
       "75%        7.000000      0.245392      0.221477    119.000000  \n",
       "90%        9.000000      0.847317      0.251928    142.000000  \n",
       "95%        9.000000      1.594276      0.277132    157.000000  \n",
       "99%        9.000000      7.185472      0.317073    188.000000  \n",
       "max        9.000000    841.288094      0.600000    253.000000  "
      ]
     },
     "execution_count": 38,
     "metadata": {},
     "output_type": "execute_result"
    }
   ],
   "source": [
    "# Checking outliers at 25%, 50%, 75%, 90%, 95% and 99%\n",
    "\n",
    "df.drop(['churn'], axis=1).describe(percentiles=[.25,.5,.75,.90,.95,.99])"
   ]
  },
  {
   "cell_type": "code",
   "execution_count": 39,
   "metadata": {},
   "outputs": [
    {
     "data": {
      "image/png": "[encoded data removed]",
      "text/plain": [
       "<Figure size 1296x1008 with 6 Axes>"
      ]
     },
     "metadata": {
      "needs_background": "light"
     },
     "output_type": "display_data"
    }
   ],
   "source": [
    "# Boxplot for numeric variables \n",
    "plt.figure(figsize=(18,14))\n",
    "cols = ['Avg_budget', 'Duration', 'CPL_wrt_BC', 'num_prods','calls', 'clicks']\n",
    "for i in enumerate(cols): \n",
    "    ax = plt.subplot(4, 4, i[0]+1)\n",
    "    plt.yscale('log')\n",
    "    sns.boxplot(y=i[1], data=df) "
   ]
  },
  {
   "cell_type": "code",
   "execution_count": 40,
   "metadata": {},
   "outputs": [],
   "source": [
    "# Looping through each variable with outliers\n",
    "\n",
    "for i in df.columns:\n",
    "    if 'client_state' in i:\n",
    "        continue\n",
    "    elif 'churn' in i:\n",
    "        continue\n",
    "    elif 'BC' in i:\n",
    "        continue\n",
    "    else:\n",
    "        upper_fence = df[i].quantile(0.99)            # taking the value of 99th percentile for each column\n",
    "\n",
    "        # Replacing all the values higher than the upper fence with the value of upper fence\n",
    "        df[i][df[i] >= upper_fence] = upper_fence"
   ]
  },
  {
   "cell_type": "code",
   "execution_count": 41,
   "metadata": {},
   "outputs": [
    {
     "data": {
      "image/png": "[encoded data removed]",
      "text/plain": [
       "<Figure size 1296x1008 with 6 Axes>"
      ]
     },
     "metadata": {
      "needs_background": "light"
     },
     "output_type": "display_data"
    }
   ],
   "source": [
    "# Boxplot for numeric variables \n",
    "plt.figure(figsize=(18,14))\n",
    "cols = ['Avg_budget', 'Duration', 'CPL_wrt_BC', 'num_prods','calls', 'clicks']\n",
    "for i in enumerate(cols): \n",
    "    ax = plt.subplot(4, 4, i[0]+1)\n",
    "    plt.yscale('log')\n",
    "    sns.boxplot(y=i[1], data=df)  "
   ]
  },
  {
   "cell_type": "markdown",
   "metadata": {},
   "source": [
    "## Data Preparation"
   ]
  },
  {
   "cell_type": "markdown",
   "metadata": {},
   "source": [
    "### Upsample minority class - Resampling, Random Sampling, SMOTE, ADASYN"
   ]
  },
  {
   "cell_type": "markdown",
   "metadata": {},
   "source": [
    "<b>Upsampling, to make the counts of both labels same. \n",
    "This prevents the model from inclining towards the majority class and \n",
    "the interaction(boundary line)between the target classes remains unaltered."
   ]
  },
  {
   "cell_type": "code",
   "execution_count": 42,
   "metadata": {},
   "outputs": [
    {
     "data": {
      "text/plain": [
       "1    8000\n",
       "0    8000\n",
       "Name: churn, dtype: int64"
      ]
     },
     "execution_count": 42,
     "metadata": {},
     "output_type": "execute_result"
    }
   ],
   "source": [
    "\n",
    "# Separate majority and minority classes\n",
    "df_majority = df[df.churn==0]\n",
    "df_minority = df[df.churn==1]\n",
    " \n",
    "# Upsample minority class\n",
    "df_minority_upsampled = resample(df_minority, \n",
    "                                 replace=True,     # sample with replacement\n",
    "                                 n_samples=8000,    # to match majority class\n",
    "                                 random_state=100) # reproducible results\n",
    " \n",
    "# Combine majority class with upsampled minority class\n",
    "df_upsampled = pd.concat([df_majority, df_minority_upsampled])\n",
    " \n",
    "# Display new class counts\n",
    "df_upsampled.churn.value_counts()"
   ]
  },
  {
   "cell_type": "code",
   "execution_count": 43,
   "metadata": {},
   "outputs": [],
   "source": [
    "#split into train-test\n",
    "x = df.drop('churn', axis = 1)\n",
    "y= df['churn']\n",
    "X_train, X_test, y_train, y_test = train_test_split(x, y, stratify=y, train_size=0.8, random_state=10)"
   ]
  },
  {
   "cell_type": "code",
   "execution_count": 44,
   "metadata": {},
   "outputs": [],
   "source": [
    "#balance classes using Random Oversampling\n",
    "oversample= RandomOverSampler(random_state=10)\n",
    "X_train_oversampled, y_train_oversampled = oversample.fit_resample(X_train, y_train)"
   ]
  },
  {
   "cell_type": "code",
   "execution_count": 45,
   "metadata": {},
   "outputs": [],
   "source": [
    "#balance classes using SMOTE\n",
    "sm = SMOTE(random_state=10)\n",
    "X_train_smote, y_train_smote = sm.fit_resample(X_train, y_train)"
   ]
  },
  {
   "cell_type": "code",
   "execution_count": 46,
   "metadata": {},
   "outputs": [],
   "source": [
    "#balance classes using ADASYN\n",
    "ada = ADASYN(random_state=10)\n",
    "X_train_adasyn, y_train_adasyn = ada.fit_resample(X_train, y_train)"
   ]
  },
  {
   "cell_type": "markdown",
   "metadata": {},
   "source": [
    "### Train-Test Split"
   ]
  },
  {
   "cell_type": "code",
   "execution_count": 47,
   "metadata": {},
   "outputs": [],
   "source": [
    "y= df_upsampled['churn']"
   ]
  },
  {
   "cell_type": "code",
   "execution_count": 48,
   "metadata": {},
   "outputs": [],
   "source": [
    "x = df_upsampled.drop('churn', axis = 1)"
   ]
  },
  {
   "cell_type": "code",
   "execution_count": 49,
   "metadata": {},
   "outputs": [],
   "source": [
    "#split into train-test (80-20 split)\n",
    "x_train_upsampled, x_test_upsampled, y_train_upsampled, y_test_upsampled = train_test_split(x, y, stratify=y, train_size=0.8, random_state=10)\n"
   ]
  },
  {
   "cell_type": "markdown",
   "metadata": {},
   "source": [
    "### Scaling and Power Transforming"
   ]
  },
  {
   "cell_type": "code",
   "execution_count": 50,
   "metadata": {},
   "outputs": [],
   "source": [
    "#Minmax scaling \n",
    "min_max_scaler = preprocessing.MinMaxScaler()\n",
    "scaler = MinMaxScaler()\n",
    "x_train_upsampled = scaler.fit_transform(x_train_upsampled)\n",
    "x_test_upsampled = scaler.transform(x_test_upsampled)"
   ]
  },
  {
   "cell_type": "code",
   "execution_count": 51,
   "metadata": {},
   "outputs": [],
   "source": [
    "# - Apply : preprocessing.PowerTransformer(copy=False) to fit & transform the train & test data\n",
    "pt = PowerTransformer(method='yeo-johnson',copy=False)\n",
    "X_train = pt.fit_transform(X_train)\n",
    "X_test = pt.transform(X_test)"
   ]
  },
  {
   "cell_type": "markdown",
   "metadata": {},
   "source": [
    "## Modeling"
   ]
  },
  {
   "cell_type": "markdown",
   "metadata": {},
   "source": [
    "### Defining Evaluation Metrics\n",
    "\n",
    "<b><br>Our business objective is to correctly predict all the churn customers and this indicates a need for high sensitivity rather than specificity. But giving too much importance to Sensitivity will also be a costly choice. So, we are using roc_auc for our evaluation metric<b>"
   ]
  },
  {
   "cell_type": "code",
   "execution_count": 52,
   "metadata": {},
   "outputs": [],
   "source": [
    "# Model evaluation \n",
    "def model_scores(y_test, y_pred):\n",
    "    f1_val = metrics.f1_score(y_test, y_pred)\n",
    "    prec_val = metrics.precision_score(y_test, y_pred)\n",
    "    recall_val = metrics.recall_score(y_test, y_pred)\n",
    "    roc_auc_val = metrics.roc_auc_score(y_test , y_pred)\n",
    "    print()\n",
    "    print('F1 ={0}, Precision = {1}, Recall = {2}, ROC_AUC={3}'.format(f1_val, prec_val, recall_val, roc_auc_val))\n",
    "    print()\n",
    "\n",
    "    #printing the confusion matrix\n",
    "    conf_mat =  confusion_matrix(y_test, y_pred, labels=[0,1])\n",
    "    plot_labels = ['Retention', 'Churn']\n",
    "    plt.figure(figsize=(4,2))\n",
    "    sns.heatmap(conf_mat, xticklabels=plot_labels,\n",
    "     yticklabels=plot_labels, annot=True, fmt='d');\n",
    "    plt.title('Confusion matrix')\n",
    "    plt.ylabel('True class')\n",
    "    plt.xlabel('Predicted class')\n",
    "    plt.show()"
   ]
  },
  {
   "cell_type": "markdown",
   "metadata": {},
   "source": [
    "### Logistic Regression"
   ]
  },
  {
   "cell_type": "code",
   "execution_count": 53,
   "metadata": {},
   "outputs": [
    {
     "name": "stdout",
     "output_type": "stream",
     "text": [
      "\n",
      "F1 =0.11403508771929824, Precision = 0.4642857142857143, Recall = 0.065, ROC_AUC=0.523125\n",
      "\n"
     ]
    },
    {
     "data": {
      "image/png": "[encoded data removed]",
      "text/plain": [
       "<Figure size 288x144 with 2 Axes>"
      ]
     },
     "metadata": {
      "needs_background": "light"
     },
     "output_type": "display_data"
    }
   ],
   "source": [
    "# instantiate object\n",
    "logreg = LogisticRegression(random_state=10)\n",
    "\n",
    "#fit model\n",
    "lr_model = logreg.fit(X_train, y_train)\n",
    "# predict values \n",
    "y_pred=lr_model.predict(X_test)\n",
    "model_scores(y_test, y_pred)"
   ]
  },
  {
   "cell_type": "code",
   "execution_count": 54,
   "metadata": {},
   "outputs": [
    {
     "name": "stdout",
     "output_type": "stream",
     "text": [
      "\n",
      "F1 =0.35262083049693665, Precision = 0.2422825070159027, Recall = 0.6475, ROC_AUC=0.5706249999999999\n",
      "\n"
     ]
    },
    {
     "data": {
      "image/png": "[encoded data removed]",
      "text/plain": [
       "<Figure size 288x144 with 2 Axes>"
      ]
     },
     "metadata": {
      "needs_background": "light"
     },
     "output_type": "display_data"
    }
   ],
   "source": [
    "#Logistic Regression on Random Oversampled train data\n",
    "\n",
    "#fit model\n",
    "lr_model_oversampled = logreg.fit(X_train_oversampled, y_train_oversampled)\n",
    "# predict values \n",
    "y_pred=lr_model_oversampled.predict(X_test)\n",
    "model_scores(y_test, y_pred)"
   ]
  },
  {
   "cell_type": "code",
   "execution_count": 55,
   "metadata": {},
   "outputs": [
    {
     "name": "stdout",
     "output_type": "stream",
     "text": [
      "\n",
      "F1 =0.3554301833568407, Precision = 0.2475442043222004, Recall = 0.63, ROC_AUC=0.5756249999999999\n",
      "\n"
     ]
    },
    {
     "data": {
      "image/png": "[encoded data removed]",
      "text/plain": [
       "<Figure size 288x144 with 2 Axes>"
      ]
     },
     "metadata": {
      "needs_background": "light"
     },
     "output_type": "display_data"
    }
   ],
   "source": [
    "#Logistic Regression on SMOTE train data\n",
    "\n",
    "#fit model\n",
    "lr_model_smote = logreg.fit(X_train_smote, y_train_smote)\n",
    "# predict values \n",
    "y_pred=lr_model_smote.predict(X_test)\n",
    "model_scores(y_test, y_pred)"
   ]
  },
  {
   "cell_type": "code",
   "execution_count": 56,
   "metadata": {},
   "outputs": [
    {
     "name": "stdout",
     "output_type": "stream",
     "text": [
      "\n",
      "F1 =0.35263432446531034, Precision = 0.2228081740276862, Recall = 0.845, ROC_AUC=0.5540625\n",
      "\n"
     ]
    },
    {
     "data": {
      "image/png": "[encoded data removed]",
      "text/plain": [
       "<Figure size 288x144 with 2 Axes>"
      ]
     },
     "metadata": {
      "needs_background": "light"
     },
     "output_type": "display_data"
    }
   ],
   "source": [
    "#Logistic Regression on ADASYN train data\n",
    "\n",
    "#fit model\n",
    "lr_model_adasyn = logreg.fit(X_train_adasyn, y_train_adasyn)\n",
    "# predict values \n",
    "y_pred=lr_model_adasyn.predict(X_test)\n",
    "model_scores(y_test, y_pred)"
   ]
  },
  {
   "cell_type": "markdown",
   "metadata": {},
   "source": [
    "### PCA"
   ]
  },
  {
   "cell_type": "code",
   "execution_count": 57,
   "metadata": {},
   "outputs": [],
   "source": [
    "# instantiate object\n",
    "pca = PCA(random_state=100)"
   ]
  },
  {
   "cell_type": "code",
   "execution_count": 58,
   "metadata": {},
   "outputs": [
    {
     "data": {
      "text/plain": [
       "PCA(random_state=100)"
      ]
     },
     "execution_count": 58,
     "metadata": {},
     "output_type": "execute_result"
    }
   ],
   "source": [
    "# fit PCA on train data\n",
    "pca.fit(X_train)"
   ]
  },
  {
   "cell_type": "code",
   "execution_count": 59,
   "metadata": {},
   "outputs": [
    {
     "data": {
      "text/plain": [
       "array([[-5.42187336e-01, -4.45333698e-01, -4.29670518e-01,\n",
       "         1.79703469e-02, -5.57920553e-01, -3.91027743e-04,\n",
       "         1.65588886e-02, -1.05918958e-01,  1.60755604e-03],\n",
       "       [ 3.09499676e-01, -4.20554959e-01, -1.80787227e-01,\n",
       "         2.04699973e-01,  3.50590808e-02,  1.20875761e-01,\n",
       "         1.26857634e-01,  7.87241836e-01,  3.27829214e-02],\n",
       "       [-1.49119796e-02, -3.19165937e-02,  8.26924982e-02,\n",
       "         1.82437403e-01, -4.85255784e-02, -1.03256709e-02,\n",
       "        -7.36882065e-01,  5.61885354e-02,  6.40331031e-01],\n",
       "       [ 6.48163847e-02, -5.54887374e-02, -8.55645921e-02,\n",
       "        -3.98793559e-01, -4.96573039e-03, -8.76668254e-01,\n",
       "        -1.35423137e-01,  1.88212982e-01, -6.34570305e-02],\n",
       "       [ 6.26586245e-02, -4.93385980e-02, -8.76114522e-02,\n",
       "        -7.60785549e-01,  2.60957633e-02,  2.92013830e-01,\n",
       "         2.43001058e-01,  2.02479809e-02,  5.11621561e-01],\n",
       "       [ 3.85536668e-02, -8.86757325e-02,  7.60857302e-02,\n",
       "        -4.27804951e-01, -8.30547712e-02,  3.54335257e-01,\n",
       "        -5.75739545e-01,  1.31827678e-01, -5.66160742e-01],\n",
       "       [-1.08750778e-01, -1.53857632e-01,  8.38648802e-01,\n",
       "        -3.95640881e-02, -4.43854371e-01, -5.57356581e-02,\n",
       "         1.76689091e-01,  1.61320435e-01,  4.74076182e-02],\n",
       "       [-3.74421189e-01,  7.30179814e-01, -1.29820620e-01,\n",
       "        -1.83928696e-02, -2.15569482e-01,  5.29287036e-02,\n",
       "         2.32579551e-02,  5.09290806e-01,  1.62731239e-02],\n",
       "       [ 6.69618447e-01,  2.31476437e-01, -1.86788285e-01,\n",
       "         4.17125587e-02, -6.58832406e-01,  1.25996405e-03,\n",
       "         3.58263259e-03, -1.65106821e-01,  8.07271463e-03]])"
      ]
     },
     "execution_count": 59,
     "metadata": {},
     "output_type": "execute_result"
    }
   ],
   "source": [
    "# components derived\n",
    "pca.components_"
   ]
  },
  {
   "cell_type": "code",
   "execution_count": 60,
   "metadata": {},
   "outputs": [
    {
     "data": {
      "text/plain": [
       "array([0.21319474, 0.12823682, 0.11400165, 0.11158921, 0.11082885,\n",
       "       0.10778903, 0.08729678, 0.0744343 , 0.05262863])"
      ]
     },
     "execution_count": 60,
     "metadata": {},
     "output_type": "execute_result"
    }
   ],
   "source": [
    "# variance explained by each component\n",
    "pca.explained_variance_ratio_"
   ]
  },
  {
   "cell_type": "code",
   "execution_count": 61,
   "metadata": {},
   "outputs": [],
   "source": [
    "# cumulative variance explained by the principal components\n",
    "var_cumu = np.cumsum(pca.explained_variance_ratio_)"
   ]
  },
  {
   "cell_type": "code",
   "execution_count": 62,
   "metadata": {},
   "outputs": [
    {
     "data": {
      "image/png": "[encoded data removed]",
      "text/plain": [
       "<Figure size 720x432 with 1 Axes>"
      ]
     },
     "metadata": {
      "needs_background": "light"
     },
     "output_type": "display_data"
    }
   ],
   "source": [
    "# plot for cumulative variance explained\n",
    "fig = plt.figure(figsize=[10,6])\n",
    "plt.vlines(x=15, ymax=1, ymin=0, colors=\"r\", linestyles=\"--\")\n",
    "plt.hlines(y=0.95, xmax=30, xmin=0, colors=\"g\", linestyles=\"--\")\n",
    "plt.plot(var_cumu)\n",
    "plt.ylabel(\"Cumulative variance explained\")\n",
    "plt.show()"
   ]
  },
  {
   "cell_type": "code",
   "execution_count": 63,
   "metadata": {},
   "outputs": [],
   "source": [
    "# to extract components that cumulatively explain 90% of variance\n",
    "pca_90 = PCA(0.90)"
   ]
  },
  {
   "cell_type": "code",
   "execution_count": 64,
   "metadata": {},
   "outputs": [],
   "source": [
    "# fit PCA to the train data\n",
    "df_train_pca = pca_90.fit_transform(X_train)"
   ]
  },
  {
   "cell_type": "code",
   "execution_count": 65,
   "metadata": {},
   "outputs": [],
   "source": [
    "# transform test set based on PCA\n",
    "df_test_pca = pca_90.transform(X_test)"
   ]
  },
  {
   "cell_type": "code",
   "execution_count": 66,
   "metadata": {},
   "outputs": [
    {
     "data": {
      "text/plain": [
       "(2000, 8)"
      ]
     },
     "execution_count": 66,
     "metadata": {},
     "output_type": "execute_result"
    }
   ],
   "source": [
    "df_test_pca.shape"
   ]
  },
  {
   "cell_type": "code",
   "execution_count": 67,
   "metadata": {},
   "outputs": [],
   "source": [
    "# function for evaluating decision tree with pca\n",
    "def evaluate_pca_model(classifier):\n",
    "    print(\"Train Accuracy :\", accuracy_score(y_train, classifier.predict(df_train_pca)))\n",
    "    print(\"Train Confusion Matrix:\")\n",
    "    print(confusion_matrix(y_train, classifier.predict(df_train_pca)))\n",
    "    print(\"-\"*50)\n",
    "    print(\"Test Accuracy :\", accuracy_score(y_test, classifier.predict(df_test_pca)))\n",
    "    print(\"Test Confusion Matrix:\")\n",
    "    print(confusion_matrix(y_test, classifier.predict(df_test_pca)))"
   ]
  },
  {
   "cell_type": "markdown",
   "metadata": {},
   "source": [
    "<b>After PCA, we can see that all the features are needed to explain the variance in target variable. \n",
    "So we will retain all features for model building"
   ]
  },
  {
   "cell_type": "markdown",
   "metadata": {},
   "source": [
    "### Logistic Regression with PCA"
   ]
  },
  {
   "cell_type": "code",
   "execution_count": 68,
   "metadata": {},
   "outputs": [],
   "source": [
    "# instantiate the object\n",
    "logreg_pca = LogisticRegression()"
   ]
  },
  {
   "cell_type": "code",
   "execution_count": 69,
   "metadata": {},
   "outputs": [],
   "source": [
    "# fit logistic regression model on df_train_pca\n",
    "LR_pca = logreg_pca.fit(df_train_pca, y_train)"
   ]
  },
  {
   "cell_type": "code",
   "execution_count": 70,
   "metadata": {},
   "outputs": [],
   "source": [
    "# predict values for training data\n",
    "y_train_pred = LR_pca.predict_proba(df_train_pca)[:,1]"
   ]
  },
  {
   "cell_type": "code",
   "execution_count": 71,
   "metadata": {},
   "outputs": [
    {
     "data": {
      "text/html": [
       "<div>\n",
       "<style scoped>\n",
       "    .dataframe tbody tr th:only-of-type {\n",
       "        vertical-align: middle;\n",
       "    }\n",
       "\n",
       "    .dataframe tbody tr th {\n",
       "        vertical-align: top;\n",
       "    }\n",
       "\n",
       "    .dataframe thead th {\n",
       "        text-align: right;\n",
       "    }\n",
       "</style>\n",
       "<table border=\"1\" class=\"dataframe\">\n",
       "  <thead>\n",
       "    <tr style=\"text-align: right;\">\n",
       "      <th></th>\n",
       "      <th>churn</th>\n",
       "      <th>churn_prob</th>\n",
       "    </tr>\n",
       "  </thead>\n",
       "  <tbody>\n",
       "    <tr>\n",
       "      <th>0</th>\n",
       "      <td>0</td>\n",
       "      <td>0.202359</td>\n",
       "    </tr>\n",
       "    <tr>\n",
       "      <th>1</th>\n",
       "      <td>0</td>\n",
       "      <td>0.233574</td>\n",
       "    </tr>\n",
       "    <tr>\n",
       "      <th>2</th>\n",
       "      <td>0</td>\n",
       "      <td>0.141525</td>\n",
       "    </tr>\n",
       "    <tr>\n",
       "      <th>3</th>\n",
       "      <td>0</td>\n",
       "      <td>0.123591</td>\n",
       "    </tr>\n",
       "    <tr>\n",
       "      <th>4</th>\n",
       "      <td>0</td>\n",
       "      <td>0.359471</td>\n",
       "    </tr>\n",
       "  </tbody>\n",
       "</table>\n",
       "</div>"
      ],
      "text/plain": [
       "   churn  churn_prob\n",
       "0      0    0.202359\n",
       "1      0    0.233574\n",
       "2      0    0.141525\n",
       "3      0    0.123591\n",
       "4      0    0.359471"
      ]
     },
     "execution_count": 71,
     "metadata": {},
     "output_type": "execute_result"
    }
   ],
   "source": [
    "# view predicted probabilities\n",
    "y_train_pred_final = pd.DataFrame({'churn':y_train.values, 'churn_prob':y_train_pred})\n",
    "y_train_pred_final.head()"
   ]
  },
  {
   "cell_type": "code",
   "execution_count": 72,
   "metadata": {},
   "outputs": [
    {
     "data": {
      "text/html": [
       "<div>\n",
       "<style scoped>\n",
       "    .dataframe tbody tr th:only-of-type {\n",
       "        vertical-align: middle;\n",
       "    }\n",
       "\n",
       "    .dataframe tbody tr th {\n",
       "        vertical-align: top;\n",
       "    }\n",
       "\n",
       "    .dataframe thead th {\n",
       "        text-align: right;\n",
       "    }\n",
       "</style>\n",
       "<table border=\"1\" class=\"dataframe\">\n",
       "  <thead>\n",
       "    <tr style=\"text-align: right;\">\n",
       "      <th></th>\n",
       "      <th>churn</th>\n",
       "      <th>churn_prob</th>\n",
       "      <th>0.0</th>\n",
       "      <th>0.1</th>\n",
       "      <th>0.2</th>\n",
       "      <th>0.3</th>\n",
       "      <th>0.4</th>\n",
       "      <th>0.48</th>\n",
       "      <th>0.5</th>\n",
       "      <th>0.52</th>\n",
       "      <th>0.54</th>\n",
       "      <th>0.6</th>\n",
       "      <th>0.7</th>\n",
       "      <th>0.8</th>\n",
       "      <th>0.9</th>\n",
       "    </tr>\n",
       "  </thead>\n",
       "  <tbody>\n",
       "    <tr>\n",
       "      <th>0</th>\n",
       "      <td>0</td>\n",
       "      <td>0.202359</td>\n",
       "      <td>1</td>\n",
       "      <td>1</td>\n",
       "      <td>1</td>\n",
       "      <td>0</td>\n",
       "      <td>0</td>\n",
       "      <td>0</td>\n",
       "      <td>0</td>\n",
       "      <td>0</td>\n",
       "      <td>0</td>\n",
       "      <td>0</td>\n",
       "      <td>0</td>\n",
       "      <td>0</td>\n",
       "      <td>0</td>\n",
       "    </tr>\n",
       "    <tr>\n",
       "      <th>1</th>\n",
       "      <td>0</td>\n",
       "      <td>0.233574</td>\n",
       "      <td>1</td>\n",
       "      <td>1</td>\n",
       "      <td>1</td>\n",
       "      <td>0</td>\n",
       "      <td>0</td>\n",
       "      <td>0</td>\n",
       "      <td>0</td>\n",
       "      <td>0</td>\n",
       "      <td>0</td>\n",
       "      <td>0</td>\n",
       "      <td>0</td>\n",
       "      <td>0</td>\n",
       "      <td>0</td>\n",
       "    </tr>\n",
       "    <tr>\n",
       "      <th>2</th>\n",
       "      <td>0</td>\n",
       "      <td>0.141525</td>\n",
       "      <td>1</td>\n",
       "      <td>1</td>\n",
       "      <td>0</td>\n",
       "      <td>0</td>\n",
       "      <td>0</td>\n",
       "      <td>0</td>\n",
       "      <td>0</td>\n",
       "      <td>0</td>\n",
       "      <td>0</td>\n",
       "      <td>0</td>\n",
       "      <td>0</td>\n",
       "      <td>0</td>\n",
       "      <td>0</td>\n",
       "    </tr>\n",
       "    <tr>\n",
       "      <th>3</th>\n",
       "      <td>0</td>\n",
       "      <td>0.123591</td>\n",
       "      <td>1</td>\n",
       "      <td>1</td>\n",
       "      <td>0</td>\n",
       "      <td>0</td>\n",
       "      <td>0</td>\n",
       "      <td>0</td>\n",
       "      <td>0</td>\n",
       "      <td>0</td>\n",
       "      <td>0</td>\n",
       "      <td>0</td>\n",
       "      <td>0</td>\n",
       "      <td>0</td>\n",
       "      <td>0</td>\n",
       "    </tr>\n",
       "    <tr>\n",
       "      <th>4</th>\n",
       "      <td>0</td>\n",
       "      <td>0.359471</td>\n",
       "      <td>1</td>\n",
       "      <td>1</td>\n",
       "      <td>1</td>\n",
       "      <td>1</td>\n",
       "      <td>0</td>\n",
       "      <td>0</td>\n",
       "      <td>0</td>\n",
       "      <td>0</td>\n",
       "      <td>0</td>\n",
       "      <td>0</td>\n",
       "      <td>0</td>\n",
       "      <td>0</td>\n",
       "      <td>0</td>\n",
       "    </tr>\n",
       "  </tbody>\n",
       "</table>\n",
       "</div>"
      ],
      "text/plain": [
       "   churn  churn_prob  0.0  0.1  0.2  0.3  0.4  0.48  0.5  0.52  0.54  0.6  \\\n",
       "0      0    0.202359    1    1    1    0    0     0    0     0     0    0   \n",
       "1      0    0.233574    1    1    1    0    0     0    0     0     0    0   \n",
       "2      0    0.141525    1    1    0    0    0     0    0     0     0    0   \n",
       "3      0    0.123591    1    1    0    0    0     0    0     0     0    0   \n",
       "4      0    0.359471    1    1    1    1    0     0    0     0     0    0   \n",
       "\n",
       "   0.7  0.8  0.9  \n",
       "0    0    0    0  \n",
       "1    0    0    0  \n",
       "2    0    0    0  \n",
       "3    0    0    0  \n",
       "4    0    0    0  "
      ]
     },
     "execution_count": 72,
     "metadata": {},
     "output_type": "execute_result"
    }
   ],
   "source": [
    "# create columns with different probability cutoffs \n",
    "numbers = [0.0,0.1,0.2,0.3,0.4,0.48,0.5,0.52,0.54,0.6,0.7,0.8,0.9]\n",
    "for i in numbers:\n",
    "    y_train_pred_final[i]= y_train_pred_final.churn_prob.map(lambda x: 1 if x > i else 0)\n",
    "y_train_pred_final.head()"
   ]
  },
  {
   "cell_type": "code",
   "execution_count": 73,
   "metadata": {},
   "outputs": [
    {
     "name": "stdout",
     "output_type": "stream",
     "text": [
      "      prob  accuracy  sensitivity  specificity\n",
      "0.00  0.00  0.200000     1.000000     0.000000\n",
      "0.10  0.10  0.306375     0.932500     0.149844\n",
      "0.20  0.20  0.629000     0.611250     0.633437\n",
      "0.30  0.30  0.780875     0.305625     0.899687\n",
      "0.40  0.40  0.805875     0.152500     0.969219\n",
      "0.48  0.48  0.807125     0.082500     0.988281\n",
      "0.50  0.50  0.804750     0.063125     0.990156\n",
      "0.52  0.52  0.803625     0.050000     0.992031\n",
      "0.60  0.60  0.802250     0.016250     0.998750\n",
      "0.70  0.70  0.800875     0.004375     1.000000\n",
      "0.80  0.80  0.800125     0.000625     1.000000\n",
      "0.90  0.90  0.800000     0.000000     1.000000\n"
     ]
    }
   ],
   "source": [
    "# calculate accuracy sensitivity and specificity for various probability cutoffs.\n",
    "cutoff_df = pd.DataFrame( columns = ['prob','accuracy','sensitivity','specificity'])\n",
    "\n",
    "# TP = confusion[1,1] # true positive \n",
    "# TN = confusion[0,0] # true negatives\n",
    "# FP = confusion[0,1] # false positives\n",
    "# FN = confusion[1,0] # false negatives\n",
    "\n",
    "num = [0.0,0.1,0.2,0.3,0.4,0.48,0.5,0.52,0.6,0.7,0.8,0.9]\n",
    "for i in num:\n",
    "    cm1 = metrics.confusion_matrix(y_train_pred_final.churn, y_train_pred_final[i] )\n",
    "    total1=sum(sum(cm1))\n",
    "    accuracy = (cm1[0,0]+cm1[1,1])/total1\n",
    "    \n",
    "    specificity = cm1[0,0]/(cm1[0,0]+cm1[0,1])\n",
    "    sensitivity = cm1[1,1]/(cm1[1,0]+cm1[1,1])\n",
    "    cutoff_df.loc[i] =[ i ,accuracy,sensitivity,specificity]\n",
    "print(cutoff_df)"
   ]
  },
  {
   "cell_type": "code",
   "execution_count": 74,
   "metadata": {},
   "outputs": [
    {
     "data": {
      "image/png": "[encoded data removed]",
      "text/plain": [
       "<Figure size 432x288 with 1 Axes>"
      ]
     },
     "metadata": {
      "needs_background": "light"
     },
     "output_type": "display_data"
    }
   ],
   "source": [
    "# Let's plot accuracy sensitivity and specificity for various probabilities.\n",
    "cutoff_df.plot.line(x='prob', y=['accuracy','sensitivity','specificity'])\n",
    "plt.show()"
   ]
  },
  {
   "cell_type": "markdown",
   "metadata": {},
   "source": [
    "<b>As we can see, the threshold as per the curve is 0.25, which would provide all metrics in the range of 60%\n",
    "But our business objective is to correctly predict all the churn customers and this indicates a need for high sensitivity rather than specificity. \n",
    "Hence we will choose threshold of 0.25<b>"
   ]
  },
  {
   "cell_type": "code",
   "execution_count": 75,
   "metadata": {},
   "outputs": [
    {
     "data": {
      "text/html": [
       "<div>\n",
       "<style scoped>\n",
       "    .dataframe tbody tr th:only-of-type {\n",
       "        vertical-align: middle;\n",
       "    }\n",
       "\n",
       "    .dataframe tbody tr th {\n",
       "        vertical-align: top;\n",
       "    }\n",
       "\n",
       "    .dataframe thead th {\n",
       "        text-align: right;\n",
       "    }\n",
       "</style>\n",
       "<table border=\"1\" class=\"dataframe\">\n",
       "  <thead>\n",
       "    <tr style=\"text-align: right;\">\n",
       "      <th></th>\n",
       "      <th>churn</th>\n",
       "      <th>churn_prob</th>\n",
       "      <th>0.0</th>\n",
       "      <th>0.1</th>\n",
       "      <th>0.2</th>\n",
       "      <th>0.3</th>\n",
       "      <th>0.4</th>\n",
       "      <th>0.48</th>\n",
       "      <th>0.5</th>\n",
       "      <th>0.52</th>\n",
       "      <th>0.54</th>\n",
       "      <th>0.6</th>\n",
       "      <th>0.7</th>\n",
       "      <th>0.8</th>\n",
       "      <th>0.9</th>\n",
       "      <th>final_predicted</th>\n",
       "    </tr>\n",
       "  </thead>\n",
       "  <tbody>\n",
       "    <tr>\n",
       "      <th>0</th>\n",
       "      <td>0</td>\n",
       "      <td>0.202359</td>\n",
       "      <td>1</td>\n",
       "      <td>1</td>\n",
       "      <td>1</td>\n",
       "      <td>0</td>\n",
       "      <td>0</td>\n",
       "      <td>0</td>\n",
       "      <td>0</td>\n",
       "      <td>0</td>\n",
       "      <td>0</td>\n",
       "      <td>0</td>\n",
       "      <td>0</td>\n",
       "      <td>0</td>\n",
       "      <td>0</td>\n",
       "      <td>0</td>\n",
       "    </tr>\n",
       "    <tr>\n",
       "      <th>1</th>\n",
       "      <td>0</td>\n",
       "      <td>0.233574</td>\n",
       "      <td>1</td>\n",
       "      <td>1</td>\n",
       "      <td>1</td>\n",
       "      <td>0</td>\n",
       "      <td>0</td>\n",
       "      <td>0</td>\n",
       "      <td>0</td>\n",
       "      <td>0</td>\n",
       "      <td>0</td>\n",
       "      <td>0</td>\n",
       "      <td>0</td>\n",
       "      <td>0</td>\n",
       "      <td>0</td>\n",
       "      <td>0</td>\n",
       "    </tr>\n",
       "    <tr>\n",
       "      <th>2</th>\n",
       "      <td>0</td>\n",
       "      <td>0.141525</td>\n",
       "      <td>1</td>\n",
       "      <td>1</td>\n",
       "      <td>0</td>\n",
       "      <td>0</td>\n",
       "      <td>0</td>\n",
       "      <td>0</td>\n",
       "      <td>0</td>\n",
       "      <td>0</td>\n",
       "      <td>0</td>\n",
       "      <td>0</td>\n",
       "      <td>0</td>\n",
       "      <td>0</td>\n",
       "      <td>0</td>\n",
       "      <td>0</td>\n",
       "    </tr>\n",
       "    <tr>\n",
       "      <th>3</th>\n",
       "      <td>0</td>\n",
       "      <td>0.123591</td>\n",
       "      <td>1</td>\n",
       "      <td>1</td>\n",
       "      <td>0</td>\n",
       "      <td>0</td>\n",
       "      <td>0</td>\n",
       "      <td>0</td>\n",
       "      <td>0</td>\n",
       "      <td>0</td>\n",
       "      <td>0</td>\n",
       "      <td>0</td>\n",
       "      <td>0</td>\n",
       "      <td>0</td>\n",
       "      <td>0</td>\n",
       "      <td>0</td>\n",
       "    </tr>\n",
       "    <tr>\n",
       "      <th>4</th>\n",
       "      <td>0</td>\n",
       "      <td>0.359471</td>\n",
       "      <td>1</td>\n",
       "      <td>1</td>\n",
       "      <td>1</td>\n",
       "      <td>1</td>\n",
       "      <td>0</td>\n",
       "      <td>0</td>\n",
       "      <td>0</td>\n",
       "      <td>0</td>\n",
       "      <td>0</td>\n",
       "      <td>0</td>\n",
       "      <td>0</td>\n",
       "      <td>0</td>\n",
       "      <td>0</td>\n",
       "      <td>1</td>\n",
       "    </tr>\n",
       "  </tbody>\n",
       "</table>\n",
       "</div>"
      ],
      "text/plain": [
       "   churn  churn_prob  0.0  0.1  0.2  0.3  0.4  0.48  0.5  0.52  0.54  0.6  \\\n",
       "0      0    0.202359    1    1    1    0    0     0    0     0     0    0   \n",
       "1      0    0.233574    1    1    1    0    0     0    0     0     0    0   \n",
       "2      0    0.141525    1    1    0    0    0     0    0     0     0    0   \n",
       "3      0    0.123591    1    1    0    0    0     0    0     0     0    0   \n",
       "4      0    0.359471    1    1    1    1    0     0    0     0     0    0   \n",
       "\n",
       "   0.7  0.8  0.9  final_predicted  \n",
       "0    0    0    0                0  \n",
       "1    0    0    0                0  \n",
       "2    0    0    0                0  \n",
       "3    0    0    0                0  \n",
       "4    0    0    0                1  "
      ]
     },
     "execution_count": 75,
     "metadata": {},
     "output_type": "execute_result"
    }
   ],
   "source": [
    "# we will take the threshold value as 0.25\n",
    "y_train_pred_final['final_predicted'] = y_train_pred_final.churn_prob.map( lambda x: 1 if x > 0.25 else 0)\n",
    "\n",
    "y_train_pred_final.head()"
   ]
  },
  {
   "cell_type": "code",
   "execution_count": 76,
   "metadata": {},
   "outputs": [],
   "source": [
    "# predictions for test set\n",
    "y_test_pred = LR_pca.predict_proba(df_test_pca)[:,1]"
   ]
  },
  {
   "cell_type": "code",
   "execution_count": 77,
   "metadata": {},
   "outputs": [
    {
     "data": {
      "text/html": [
       "<div>\n",
       "<style scoped>\n",
       "    .dataframe tbody tr th:only-of-type {\n",
       "        vertical-align: middle;\n",
       "    }\n",
       "\n",
       "    .dataframe tbody tr th {\n",
       "        vertical-align: top;\n",
       "    }\n",
       "\n",
       "    .dataframe thead th {\n",
       "        text-align: right;\n",
       "    }\n",
       "</style>\n",
       "<table border=\"1\" class=\"dataframe\">\n",
       "  <thead>\n",
       "    <tr style=\"text-align: right;\">\n",
       "      <th></th>\n",
       "      <th>churn</th>\n",
       "      <th>churn_prob</th>\n",
       "    </tr>\n",
       "  </thead>\n",
       "  <tbody>\n",
       "    <tr>\n",
       "      <th>0</th>\n",
       "      <td>1</td>\n",
       "      <td>0.210109</td>\n",
       "    </tr>\n",
       "    <tr>\n",
       "      <th>1</th>\n",
       "      <td>0</td>\n",
       "      <td>0.167067</td>\n",
       "    </tr>\n",
       "    <tr>\n",
       "      <th>2</th>\n",
       "      <td>0</td>\n",
       "      <td>0.041337</td>\n",
       "    </tr>\n",
       "    <tr>\n",
       "      <th>3</th>\n",
       "      <td>1</td>\n",
       "      <td>0.197504</td>\n",
       "    </tr>\n",
       "    <tr>\n",
       "      <th>4</th>\n",
       "      <td>0</td>\n",
       "      <td>0.288779</td>\n",
       "    </tr>\n",
       "  </tbody>\n",
       "</table>\n",
       "</div>"
      ],
      "text/plain": [
       "   churn  churn_prob\n",
       "0      1    0.210109\n",
       "1      0    0.167067\n",
       "2      0    0.041337\n",
       "3      1    0.197504\n",
       "4      0    0.288779"
      ]
     },
     "execution_count": 77,
     "metadata": {},
     "output_type": "execute_result"
    }
   ],
   "source": [
    "y_test_pred_final = pd.DataFrame({'churn':y_test.values, 'churn_prob':y_test_pred})\n",
    "y_test_pred_final.head()"
   ]
  },
  {
   "cell_type": "markdown",
   "metadata": {},
   "source": [
    "<b> Prediction class probabilities are too low to trust the model. Moving on to cluster classification methods like KNN"
   ]
  },
  {
   "cell_type": "markdown",
   "metadata": {},
   "source": [
    "### KNN"
   ]
  },
  {
   "cell_type": "code",
   "execution_count": 78,
   "metadata": {},
   "outputs": [
    {
     "name": "stdout",
     "output_type": "stream",
     "text": [
      "\n",
      "F1 =0.2163120567375887, Precision = 0.3719512195121951, Recall = 0.1525, ROC_AUC=0.5440625\n",
      "\n"
     ]
    },
    {
     "data": {
      "image/png": "[encoded data removed]",
      "text/plain": [
       "<Figure size 288x144 with 2 Axes>"
      ]
     },
     "metadata": {
      "needs_background": "light"
     },
     "output_type": "display_data"
    }
   ],
   "source": [
    "#instantiate object\n",
    "knn = KNeighborsClassifier(n_neighbors = 5, metric = 'euclidean')\n",
    "\n",
    "#fit model\n",
    "knn_model = knn.fit(X_train, y_train)\n",
    "# predict values \n",
    "y_pred=knn_model.predict(X_test)\n",
    "model_scores(y_test, y_pred)"
   ]
  },
  {
   "cell_type": "markdown",
   "metadata": {},
   "source": [
    "#### KNN on Random Random Oversampled dataset"
   ]
  },
  {
   "cell_type": "code",
   "execution_count": 79,
   "metadata": {},
   "outputs": [
    {
     "name": "stdout",
     "output_type": "stream",
     "text": [
      "\n",
      "F1 =0.0, Precision = 0.0, Recall = 0.0, ROC_AUC=0.4996875\n",
      "\n"
     ]
    },
    {
     "data": {
      "image/png": "[encoded data removed]",
      "text/plain": [
       "<Figure size 288x144 with 2 Axes>"
      ]
     },
     "metadata": {
      "needs_background": "light"
     },
     "output_type": "display_data"
    }
   ],
   "source": [
    "#fit model\n",
    "knn_model_oversampled = knn.fit(X_train_oversampled, y_train_oversampled)\n",
    "# predict values \n",
    "y_pred=knn_model_oversampled.predict(X_test)\n",
    "model_scores(y_test, y_pred)"
   ]
  },
  {
   "cell_type": "markdown",
   "metadata": {},
   "source": [
    "#### KNN on Random SMOTE Oversampled dataset"
   ]
  },
  {
   "cell_type": "code",
   "execution_count": 80,
   "metadata": {},
   "outputs": [
    {
     "name": "stdout",
     "output_type": "stream",
     "text": [
      "\n",
      "F1 =0.0, Precision = 0.0, Recall = 0.0, ROC_AUC=0.5\n",
      "\n"
     ]
    },
    {
     "data": {
      "image/png": "[encoded data removed]",
      "text/plain": [
       "<Figure size 288x144 with 2 Axes>"
      ]
     },
     "metadata": {
      "needs_background": "light"
     },
     "output_type": "display_data"
    }
   ],
   "source": [
    "#fit model\n",
    "knn_model_smote = knn.fit(X_train_smote, y_train_smote)\n",
    "# predict values \n",
    "y_pred=knn_model_smote.predict(X_test)\n",
    "model_scores(y_test, y_pred)"
   ]
  },
  {
   "cell_type": "markdown",
   "metadata": {},
   "source": [
    "#### KNN on Random ADASYN Oversampled dataset"
   ]
  },
  {
   "cell_type": "code",
   "execution_count": 81,
   "metadata": {},
   "outputs": [
    {
     "name": "stdout",
     "output_type": "stream",
     "text": [
      "\n",
      "F1 =0.0, Precision = 0.0, Recall = 0.0, ROC_AUC=0.5\n",
      "\n"
     ]
    },
    {
     "data": {
      "image/png": "[encoded data removed]",
      "text/plain": [
       "<Figure size 288x144 with 2 Axes>"
      ]
     },
     "metadata": {
      "needs_background": "light"
     },
     "output_type": "display_data"
    }
   ],
   "source": [
    "#fit model\n",
    "knn_model_adasyn = knn.fit(X_train_adasyn, y_train_adasyn)\n",
    "# predict values \n",
    "y_pred=knn_model_adasyn.predict(X_test)\n",
    "model_scores(y_test, y_pred)"
   ]
  },
  {
   "cell_type": "markdown",
   "metadata": {},
   "source": [
    "### Trying Ensembles"
   ]
  },
  {
   "cell_type": "markdown",
   "metadata": {},
   "source": [
    "### Random Forest"
   ]
  },
  {
   "cell_type": "code",
   "execution_count": 82,
   "metadata": {},
   "outputs": [
    {
     "name": "stdout",
     "output_type": "stream",
     "text": [
      "\n",
      "F1 =0.39068100358422936, Precision = 0.689873417721519, Recall = 0.2725, ROC_AUC=0.6209374999999999\n",
      "\n"
     ]
    },
    {
     "data": {
      "image/png": "[encoded data removed]",
      "text/plain": [
       "<Figure size 288x144 with 2 Axes>"
      ]
     },
     "metadata": {
      "needs_background": "light"
     },
     "output_type": "display_data"
    }
   ],
   "source": [
    "#instantiate object\n",
    "rf = RandomForestClassifier(random_state=10, n_estimators=1000)\n",
    "#fit model\n",
    "rf_model = rf.fit(X_train, y_train)\n",
    "#predict values\n",
    "y_pred = rf_model.predict(X_test)\n",
    "model_scores(y_test, y_pred)"
   ]
  },
  {
   "cell_type": "markdown",
   "metadata": {},
   "source": [
    "#### Random Forest on Random Oversampled dataset"
   ]
  },
  {
   "cell_type": "code",
   "execution_count": 83,
   "metadata": {},
   "outputs": [
    {
     "name": "stdout",
     "output_type": "stream",
     "text": [
      "\n",
      "F1 =0.07439824945295406, Precision = 0.2982456140350877, Recall = 0.0425, ROC_AUC=0.5087499999999999\n",
      "\n"
     ]
    },
    {
     "data": {
      "image/png": "[encoded data removed]",
      "text/plain": [
       "<Figure size 288x144 with 2 Axes>"
      ]
     },
     "metadata": {
      "needs_background": "light"
     },
     "output_type": "display_data"
    }
   ],
   "source": [
    "#fit model\n",
    "rf_model_oversampled = rf.fit(X_train_oversampled, y_train_oversampled)\n",
    "#predict values\n",
    "y_pred = rf_model_oversampled.predict(X_test)\n",
    "model_scores(y_test, y_pred)"
   ]
  },
  {
   "cell_type": "markdown",
   "metadata": {},
   "source": [
    "#### Random Forest on Smote Oversampled dataset"
   ]
  },
  {
   "cell_type": "code",
   "execution_count": 84,
   "metadata": {},
   "outputs": [
    {
     "name": "stdout",
     "output_type": "stream",
     "text": [
      "\n",
      "F1 =0.22914072229140722, Precision = 0.228287841191067, Recall = 0.23, ROC_AUC=0.5178125\n",
      "\n"
     ]
    },
    {
     "data": {
      "image/png": "[encoded data removed]",
      "text/plain": [
       "<Figure size 288x144 with 2 Axes>"
      ]
     },
     "metadata": {
      "needs_background": "light"
     },
     "output_type": "display_data"
    }
   ],
   "source": [
    "#fit model\n",
    "rf_model_smote = rf.fit(X_train_smote, y_train_smote)\n",
    "#predict values\n",
    "y_pred = rf_model_smote.predict(X_test)\n",
    "model_scores(y_test, y_pred)"
   ]
  },
  {
   "cell_type": "markdown",
   "metadata": {},
   "source": [
    "#### Random Forest on ADASYN Oversampled dataset"
   ]
  },
  {
   "cell_type": "code",
   "execution_count": 85,
   "metadata": {},
   "outputs": [
    {
     "name": "stdout",
     "output_type": "stream",
     "text": [
      "\n",
      "F1 =0.2164090368608799, Precision = 0.20634920634920634, Recall = 0.2275, ROC_AUC=0.504375\n",
      "\n"
     ]
    },
    {
     "data": {
      "image/png": "[encoded data removed]",
      "text/plain": [
       "<Figure size 288x144 with 2 Axes>"
      ]
     },
     "metadata": {
      "needs_background": "light"
     },
     "output_type": "display_data"
    }
   ],
   "source": [
    "#fit model\n",
    "rf_model_adasyn = rf.fit(X_train_adasyn, y_train_adasyn)\n",
    "#predict values\n",
    "y_pred = rf_model_adasyn.predict(X_test)\n",
    "model_scores(y_test, y_pred)"
   ]
  },
  {
   "cell_type": "markdown",
   "metadata": {},
   "source": [
    "\n",
    "\n",
    "<b>Trying Boosting methods since we have identified in EDA that the features are not strong enough to successfully classify churn. The above classifiers fail to classify churn even with oversampling. \n",
    "\n"
   ]
  },
  {
   "cell_type": "markdown",
   "metadata": {},
   "source": [
    "### AdaBoost"
   ]
  },
  {
   "cell_type": "code",
   "execution_count": 86,
   "metadata": {},
   "outputs": [
    {
     "data": {
      "text/plain": [
       "AdaBoostClassifier(base_estimator=DecisionTreeClassifier(max_depth=1),\n",
       "                   n_estimators=10000)"
      ]
     },
     "execution_count": 86,
     "metadata": {},
     "output_type": "execute_result"
    }
   ],
   "source": [
    "classifier = AdaBoostClassifier(\n",
    "    DecisionTreeClassifier(max_depth=1),\n",
    "    n_estimators=10000,\n",
    ")\n",
    "classifier.fit(x_train_upsampled, y_train_upsampled)"
   ]
  },
  {
   "cell_type": "code",
   "execution_count": 87,
   "metadata": {},
   "outputs": [],
   "source": [
    "y_pred = classifier.predict(x_test_upsampled)"
   ]
  },
  {
   "cell_type": "code",
   "execution_count": 88,
   "metadata": {},
   "outputs": [
    {
     "data": {
      "text/plain": [
       "array([[1222,  378],\n",
       "       [ 322, 1278]])"
      ]
     },
     "execution_count": 88,
     "metadata": {},
     "output_type": "execute_result"
    }
   ],
   "source": [
    "confusion_matrix(y_test_upsampled, y_pred)"
   ]
  },
  {
   "cell_type": "code",
   "execution_count": 89,
   "metadata": {},
   "outputs": [
    {
     "name": "stdout",
     "output_type": "stream",
     "text": [
      "\n",
      "F1 =0.7850122850122849, Precision = 0.7717391304347826, Recall = 0.79875, ROC_AUC=0.7812500000000001\n",
      "\n"
     ]
    },
    {
     "data": {
      "image/png": "[encoded data removed]",
      "text/plain": [
       "<Figure size 288x144 with 2 Axes>"
      ]
     },
     "metadata": {
      "needs_background": "light"
     },
     "output_type": "display_data"
    }
   ],
   "source": [
    "model_scores(y_test_upsampled, y_pred)"
   ]
  },
  {
   "cell_type": "code",
   "execution_count": 90,
   "metadata": {},
   "outputs": [
    {
     "name": "stdout",
     "output_type": "stream",
     "text": [
      "Accuracy: 0.78125\n"
     ]
    }
   ],
   "source": [
    "print(\"Accuracy:\" , metrics.accuracy_score(y_test_upsampled, y_pred))"
   ]
  },
  {
   "cell_type": "markdown",
   "metadata": {},
   "source": [
    "#### Grid Search"
   ]
  },
  {
   "cell_type": "code",
   "execution_count": 91,
   "metadata": {},
   "outputs": [],
   "source": [
    "#Grid search to find the optimal hyperparameters\n",
    "cross_val = StratifiedKFold(n_splits = 4)\n",
    "clf = AdaBoostClassifier()\n",
    "params =  {\n",
    "    'n_estimators': [150, 10000],\n",
    "    'learning_rate':[0.001, 1.0]\n",
    "}\n",
    "\n",
    "# Instantiate the grid search model\n",
    "clf_grid = GridSearchCV(estimator=clf, param_grid=params, cv=cross_val, n_jobs=2, scoring = \"roc_auc\")"
   ]
  },
  {
   "cell_type": "code",
   "execution_count": 92,
   "metadata": {
    "scrolled": true
   },
   "outputs": [
    {
     "name": "stdout",
     "output_type": "stream",
     "text": [
      "CPU times: user 1min 2s, sys: 167 ms, total: 1min 2s\n",
      "Wall time: 4min 52s\n"
     ]
    },
    {
     "data": {
      "text/plain": [
       "GridSearchCV(cv=StratifiedKFold(n_splits=4, random_state=None, shuffle=False),\n",
       "             estimator=AdaBoostClassifier(), n_jobs=2,\n",
       "             param_grid={'learning_rate': [0.001, 1.0],\n",
       "                         'n_estimators': [150, 10000]},\n",
       "             scoring='roc_auc')"
      ]
     },
     "execution_count": 92,
     "metadata": {},
     "output_type": "execute_result"
    }
   ],
   "source": [
    "%%time\n",
    "clf_grid.fit(x_train_upsampled, y_train_upsampled)"
   ]
  },
  {
   "cell_type": "code",
   "execution_count": 93,
   "metadata": {},
   "outputs": [
    {
     "data": {
      "text/plain": [
       "{'learning_rate': 1.0, 'n_estimators': 10000}"
      ]
     },
     "execution_count": 93,
     "metadata": {},
     "output_type": "execute_result"
    }
   ],
   "source": [
    "ada_best = clf_grid.best_estimator_\n",
    "predictions=ada_best.predict(x_test_upsampled)\n",
    "clf_grid.best_params_"
   ]
  },
  {
   "cell_type": "code",
   "execution_count": 94,
   "metadata": {},
   "outputs": [
    {
     "name": "stdout",
     "output_type": "stream",
     "text": [
      "\n",
      "F1 =0.7850122850122849, Precision = 0.7717391304347826, Recall = 0.79875, ROC_AUC=0.7812500000000001\n",
      "\n"
     ]
    },
    {
     "data": {
      "image/png": "[encoded data removed]",
      "text/plain": [
       "<Figure size 288x144 with 2 Axes>"
      ]
     },
     "metadata": {
      "needs_background": "light"
     },
     "output_type": "display_data"
    }
   ],
   "source": [
    "model_scores(y_test_upsampled, predictions)"
   ]
  },
  {
   "cell_type": "markdown",
   "metadata": {},
   "source": [
    "<b>AdaBoost has shown considerable improvement in the overall metrics. We can see boosting methods work well on this data as the model gets more stability.\n",
    "The instability we have seen so far is because there are features that are only partially relevant to the target variable. There is a very little information gain from the features.\n",
    "Boosting has improved model generalization by combining several estimates from different models.\n",
    "Let us try to improve metrics with other boosting methods."
   ]
  },
  {
   "cell_type": "markdown",
   "metadata": {},
   "source": [
    "# FINALISED MODEL"
   ]
  },
  {
   "cell_type": "markdown",
   "metadata": {},
   "source": [
    "## Gradient Boosting Classifier"
   ]
  },
  {
   "cell_type": "code",
   "execution_count": 95,
   "metadata": {
    "scrolled": true
   },
   "outputs": [
    {
     "name": "stdout",
     "output_type": "stream",
     "text": [
      "\n",
      "F1 =0.9129022733982877, Precision = 0.8651371012870733, Recall = 0.96625, ROC_AUC=0.9078125\n",
      "\n"
     ]
    },
    {
     "data": {
      "image/png": "[encoded data removed]",
      "text/plain": [
       "<Figure size 288x144 with 2 Axes>"
      ]
     },
     "metadata": {
      "needs_background": "light"
     },
     "output_type": "display_data"
    }
   ],
   "source": [
    "from sklearn.ensemble import GradientBoostingClassifier\n",
    "gb_clf2 = GradientBoostingClassifier(n_estimators=3000, learning_rate=0.5, max_features=3, max_depth=2, random_state=0)\n",
    "gb_clf2.fit(x_train_upsampled, y_train_upsampled)\n",
    "predictions_GB = gb_clf2.predict(x_test_upsampled)\n",
    "model_scores(y_test_upsampled, predictions_GB)"
   ]
  },
  {
   "cell_type": "markdown",
   "metadata": {},
   "source": [
    "#### Grid search"
   ]
  },
  {
   "cell_type": "code",
   "execution_count": 96,
   "metadata": {},
   "outputs": [],
   "source": [
    "#Grid search to find the optimal hyperparameters\n",
    "cross_val = StratifiedKFold(n_splits = 4)\n",
    "clf = GradientBoostingClassifier()\n",
    "params =  {\n",
    "    'n_estimators': [150, 3500],\n",
    "    'max_depth':[2,9],\n",
    "    'max_features':[2,9]\n",
    "}\n",
    "\n",
    "# Instantiate the grid search model\n",
    "clf_grid = GridSearchCV(estimator=clf, param_grid=params, cv=cross_val, n_jobs=2, scoring = \"roc_auc\")"
   ]
  },
  {
   "cell_type": "code",
   "execution_count": 97,
   "metadata": {},
   "outputs": [
    {
     "name": "stdout",
     "output_type": "stream",
     "text": [
      "CPU times: user 2min 15s, sys: 195 ms, total: 2min 15s\n",
      "Wall time: 8min 56s\n"
     ]
    },
    {
     "data": {
      "text/plain": [
       "GridSearchCV(cv=StratifiedKFold(n_splits=4, random_state=None, shuffle=False),\n",
       "             estimator=GradientBoostingClassifier(), n_jobs=2,\n",
       "             param_grid={'max_depth': [2, 9], 'max_features': [2, 9],\n",
       "                         'n_estimators': [150, 3500]},\n",
       "             scoring='roc_auc')"
      ]
     },
     "execution_count": 97,
     "metadata": {},
     "output_type": "execute_result"
    }
   ],
   "source": [
    "%%time\n",
    "clf_grid.fit(x_train_upsampled, y_train_upsampled)"
   ]
  },
  {
   "cell_type": "code",
   "execution_count": 98,
   "metadata": {},
   "outputs": [
    {
     "data": {
      "text/plain": [
       "{'max_depth': 9, 'max_features': 9, 'n_estimators': 3500}"
      ]
     },
     "execution_count": 98,
     "metadata": {},
     "output_type": "execute_result"
    }
   ],
   "source": [
    "gb_best = clf_grid.best_estimator_\n",
    "predictions=gb_best.predict(x_test_upsampled)\n",
    "clf_grid.best_params_"
   ]
  },
  {
   "cell_type": "code",
   "execution_count": 99,
   "metadata": {},
   "outputs": [
    {
     "name": "stdout",
     "output_type": "stream",
     "text": [
      "\n",
      "F1 =0.9594594594594595, Precision = 0.9432367149758454, Recall = 0.97625, ROC_AUC=0.9587499999999999\n",
      "\n"
     ]
    },
    {
     "data": {
      "image/png": "[encoded data removed]",
      "text/plain": [
       "<Figure size 288x144 with 2 Axes>"
      ]
     },
     "metadata": {
      "needs_background": "light"
     },
     "output_type": "display_data"
    }
   ],
   "source": [
    "model_scores(y_test_upsampled, predictions)"
   ]
  },
  {
   "cell_type": "code",
   "execution_count": 100,
   "metadata": {},
   "outputs": [
    {
     "name": "stdout",
     "output_type": "stream",
     "text": [
      "Accuracy: 0.95875\n"
     ]
    }
   ],
   "source": [
    "print(\"Accuracy:\" , metrics.accuracy_score(y_test_upsampled, predictions))"
   ]
  },
  {
   "cell_type": "markdown",
   "metadata": {},
   "source": [
    "**Finalised Model Metrics:::**\n",
    "<b>\n",
    "F1 =0.9594594594594595, Precision = 0.9432367149758454, Recall = 0.97625, ROC_AUC=0.9587499999999999, Accuracy: 0.95875"
   ]
  },
  {
   "cell_type": "markdown",
   "metadata": {},
   "source": [
    "#### Extracting Feature Importance from Gradient Boost Classifier"
   ]
  },
  {
   "cell_type": "code",
   "execution_count": 101,
   "metadata": {},
   "outputs": [],
   "source": [
    "#Extracting feature importance from gradient boost Classifier\n",
    "x_axis = [\"CPL_wrt_BC\",\"client_state\",\"duration\",\"num_prods\", \"calls\",\"CPL_wrt_self\",\"avg_budget\",\"BC\",\"clicks\"]\n",
    "y_axis = gb_best.feature_importances_"
   ]
  },
  {
   "cell_type": "code",
   "execution_count": 102,
   "metadata": {},
   "outputs": [
    {
     "data": {
      "text/plain": [
       "<matplotlib.axes._subplots.AxesSubplot at 0x7ff6750d7a60>"
      ]
     },
     "execution_count": 102,
     "metadata": {},
     "output_type": "execute_result"
    },
    {
     "data": {
      "image/png": "[encoded data removed]",
      "text/plain": [
       "<Figure size 1152x432 with 1 Axes>"
      ]
     },
     "metadata": {
      "needs_background": "light"
     },
     "output_type": "display_data"
    }
   ],
   "source": [
    "plt.figure(figsize=(16, 6))\n",
    "sns.barplot(x_axis,y_axis)"
   ]
  },
  {
   "cell_type": "markdown",
   "metadata": {},
   "source": [
    "## Churn Indicators"
   ]
  },
  {
   "cell_type": "markdown",
   "metadata": {},
   "source": [
    "<b>Based on the feature importance as given by Gradient Boost Classifier, we can conclude that the top 4 variables indicating churn are:\n",
    "\n",
    "1. client_state\n",
    "2. avg_budget\n",
    "3. duration\n",
    "4. CPL_wrt_BC\n",
    "\n",
    "Client State and the Average Budget are the most important indicators of churn. Also, the duration and the CPL_wrt_BC amount also indicate whether a customer will churn or not.\n",
    "The business should keep track of these important predictor variables. "
   ]
  },
  {
   "cell_type": "markdown",
   "metadata": {},
   "source": [
    "## Recommendations"
   ]
  },
  {
   "cell_type": "markdown",
   "metadata": {},
   "source": [
    "<b>According to our model, Client State and the Average Budget are the most important indicators of churn. Also, the duration and the CPL_wrt_BC amount also indicate whether a customer will churn or not. The business should keep track of these important predictor variables.\n",
    "\n",
    "Also from the EDA, we have learnt that \n",
    "* Long term customers are likely to churn \n",
    "* Low value customers are likely to churn than high value customers\n",
    "* We can see customers with high CPL_wrt_BC are more likely to retain. \n",
    "* Customers likely to retain when num_products are high\n",
    "\n",
    "<p>1)We can use this model to predict the churn with high Recall and Precision. After predicting the churn customers, we need to provide some offer or incentive to those customers to retain them in the network.\n",
    "\n",
    "\n",
    "<p>2)Based on feature importance we can see that customer state is a very important feature and we need to identify states with high percentage of churn and work on drilling down to identify the issues causing churn.\n",
    "<p>3)Also, the customers may want to see change in CPL_wrt_BC over time, they need to reach more customers over time.\n",
    "<p>4)Low value customers are may be trying out the advertising effectiveness and are churning because they don't get expected results. We need to provide additional value-added services to retain such customers. \n",
    "\n",
    "Further, data collection on some more features that could be more relevant to the target variable would be advisable. For example, if we had monthly data for each customer, we could learn why the customer would become unhappy and decide to churn.\n"
   ]
  },
  {
   "cell_type": "code",
   "execution_count": null,
   "metadata": {},
   "outputs": [],
   "source": []
  }
 ],
 "metadata": {
  "kernelspec": {
   "display_name": "Python 3",
   "language": "python",
   "name": "python3"
  },
  "language_info": {
   "codemirror_mode": {
    "name": "ipython",
    "version": 3
   },
   "file_extension": ".py",
   "mimetype": "text/x-python",
   "name": "python",
   "nbconvert_exporter": "python",
   "pygments_lexer": "ipython3",
   "version": "3.8.3"
  }
 },
 "nbformat": 4,
 "nbformat_minor": 4
}
